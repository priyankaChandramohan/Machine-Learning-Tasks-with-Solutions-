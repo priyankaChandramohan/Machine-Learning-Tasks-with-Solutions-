{
 "cells": [
  {
   "attachments": {},
   "cell_type": "markdown",
   "metadata": {
    "id": "qcJhKkGoJZm3"
   },
   "source": [
    "# Assignment 5"
   ]
  },
  {
   "cell_type": "code",
   "execution_count": 3,
   "metadata": {},
   "outputs": [
    {
     "name": "stdout",
     "output_type": "stream",
     "text": [
      "Requirement already satisfied: category_encoders in c:\\users\\priyanka c\\lib\\site-packages (2.6.1)\n",
      "Requirement already satisfied: numpy>=1.14.0 in c:\\users\\priyanka c\\lib\\site-packages (from category_encoders) (1.23.5)\n",
      "Requirement already satisfied: scikit-learn>=0.20.0 in c:\\users\\priyanka c\\lib\\site-packages (from category_encoders) (1.2.2)\n",
      "Requirement already satisfied: scipy>=1.0.0 in c:\\users\\priyanka c\\lib\\site-packages (from category_encoders) (1.10.1)\n",
      "Requirement already satisfied: statsmodels>=0.9.0 in c:\\users\\priyanka c\\lib\\site-packages (from category_encoders) (0.14.0)\n",
      "Requirement already satisfied: pandas>=1.0.5 in c:\\users\\priyanka c\\lib\\site-packages (from category_encoders) (1.5.2)\n",
      "Requirement already satisfied: patsy>=0.5.1 in c:\\users\\priyanka c\\lib\\site-packages (from category_encoders) (0.5.3)\n",
      "Requirement already satisfied: python-dateutil>=2.8.1 in c:\\users\\priyanka c\\lib\\site-packages (from pandas>=1.0.5->category_encoders) (2.8.2)\n",
      "Requirement already satisfied: pytz>=2020.1 in c:\\users\\priyanka c\\lib\\site-packages (from pandas>=1.0.5->category_encoders) (2022.6)\n",
      "Requirement already satisfied: six in c:\\users\\priyanka c\\lib\\site-packages (from patsy>=0.5.1->category_encoders) (1.16.0)\n",
      "Requirement already satisfied: joblib>=1.1.1 in c:\\users\\priyanka c\\lib\\site-packages (from scikit-learn>=0.20.0->category_encoders) (1.2.0)\n",
      "Requirement already satisfied: threadpoolctl>=2.0.0 in c:\\users\\priyanka c\\lib\\site-packages (from scikit-learn>=0.20.0->category_encoders) (3.1.0)\n",
      "Requirement already satisfied: packaging>=21.3 in c:\\users\\priyanka c\\appdata\\roaming\\python\\python310\\site-packages (from statsmodels>=0.9.0->category_encoders) (23.1)\n"
     ]
    }
   ],
   "source": [
    "!pip install category_encoders\n"
   ]
  },
  {
   "cell_type": "code",
   "execution_count": 4,
   "metadata": {
    "id": "Q4WD3An9JZnI"
   },
   "outputs": [],
   "source": [
    "import pandas as pd\n",
    "import matplotlib.pyplot as plt\n",
    "import numpy as np\n",
    "from sklearn import linear_model\n",
    "from sklearn.linear_model import LinearRegression\n",
    "import category_encoders as ce\n",
    "from sklearn.preprocessing import StandardScaler"
   ]
  },
  {
   "attachments": {},
   "cell_type": "markdown",
   "metadata": {
    "id": "g48HrQnXJZnN"
   },
   "source": [
    "# How Much is Your Car Worth?\n",
    "\n",
    "Data about the retail price of 2005 General Motors cars can be found in `car_data.csv`.\n",
    "\n",
    "The columns are:\n",
    "\n",
    "1. Price: suggested retail price of the used 2005 GM car in excellent condition.\n",
    "2. Mileage: number of miles the car has been driven\n",
    "3. Make: manufacturer of the car such as Saturn, Pontiac, and Chevrolet\n",
    "4. Model: specific models for each car manufacturer such as Ion, Vibe, Cavalier\n",
    "5. Trim (of car): specific type of car model such as SE Sedan 4D, Quad Coupe 2D          \n",
    "6. Type: body type such as sedan, coupe, etc.      \n",
    "7. Cylinder: number of cylinders in the engine        \n",
    "8. Liter: a more specific measure of engine size     \n",
    "9. Doors: number of doors           \n",
    "10. Cruise: indicator variable representing whether the car has cruise control (1 = cruise)\n",
    "11. Sound: indicator variable representing whether the car has upgraded speakers (1 = upgraded)\n",
    "12. Leather: indicator variable representing whether the car has leather seats (1 = leather)\n",
    "\n",
    "## Tasks, Part 1\n",
    "\n",
    "1. Find the linear regression equation for mileage vs price.\n",
    "2. Chart the original data and the equation on the chart.\n",
    "3. Find the equation's $R^2$ score (use the `.score` method) to determine whether the\n",
    "equation is a good fit for this data. (0.8 and greater is considered a strong correlation.)\n",
    "\n",
    "## Tasks, Part 2\n",
    "\n",
    "1. Use mileage, cylinders, liters, doors, cruise, sound, and leather to find the linear regression equation.\n",
    "2. Find the equation's $R^2$ score (use the `.score` method) to determine whether the\n",
    "equation is a good fit for this data. (0.8 and greater is considered a strong correlation.)\n",
    "3. Find the combination of the factors that is the best predictor for price.\n",
    "\n",
    "## Tasks, Hard Mode\n",
    "\n",
    "1. Research dummy variables in scikit-learn to see how to use the make, model, and body type.\n",
    "2. Find the best combination of factors to predict price."
   ]
  },
  {
   "cell_type": "code",
   "execution_count": 5,
   "metadata": {
    "id": "8E1arv1iJZnQ"
   },
   "outputs": [],
   "source": [
    "df = pd.read_csv(\"C:/Users/Priyanka C/Desktop/Guvi Projects/Task 6/Assignment 5_Car Worth/car_data.csv\")"
   ]
  },
  {
   "cell_type": "code",
   "execution_count": 6,
   "metadata": {},
   "outputs": [
    {
     "data": {
      "text/html": [
       "<div>\n",
       "<style scoped>\n",
       "    .dataframe tbody tr th:only-of-type {\n",
       "        vertical-align: middle;\n",
       "    }\n",
       "\n",
       "    .dataframe tbody tr th {\n",
       "        vertical-align: top;\n",
       "    }\n",
       "\n",
       "    .dataframe thead th {\n",
       "        text-align: right;\n",
       "    }\n",
       "</style>\n",
       "<table border=\"1\" class=\"dataframe\">\n",
       "  <thead>\n",
       "    <tr style=\"text-align: right;\">\n",
       "      <th></th>\n",
       "      <th>Price</th>\n",
       "      <th>Mileage</th>\n",
       "      <th>Make</th>\n",
       "      <th>Model</th>\n",
       "      <th>Trim</th>\n",
       "      <th>Type</th>\n",
       "      <th>Cylinder</th>\n",
       "      <th>Liter</th>\n",
       "      <th>Doors</th>\n",
       "      <th>Cruise</th>\n",
       "      <th>Sound</th>\n",
       "      <th>Leather</th>\n",
       "    </tr>\n",
       "  </thead>\n",
       "  <tbody>\n",
       "    <tr>\n",
       "      <th>0</th>\n",
       "      <td>17314.103129</td>\n",
       "      <td>8221</td>\n",
       "      <td>Buick</td>\n",
       "      <td>Century</td>\n",
       "      <td>Sedan 4D</td>\n",
       "      <td>Sedan</td>\n",
       "      <td>6</td>\n",
       "      <td>3.1</td>\n",
       "      <td>4</td>\n",
       "      <td>1</td>\n",
       "      <td>1</td>\n",
       "      <td>1</td>\n",
       "    </tr>\n",
       "    <tr>\n",
       "      <th>1</th>\n",
       "      <td>17542.036083</td>\n",
       "      <td>9135</td>\n",
       "      <td>Buick</td>\n",
       "      <td>Century</td>\n",
       "      <td>Sedan 4D</td>\n",
       "      <td>Sedan</td>\n",
       "      <td>6</td>\n",
       "      <td>3.1</td>\n",
       "      <td>4</td>\n",
       "      <td>1</td>\n",
       "      <td>1</td>\n",
       "      <td>0</td>\n",
       "    </tr>\n",
       "    <tr>\n",
       "      <th>2</th>\n",
       "      <td>16218.847862</td>\n",
       "      <td>13196</td>\n",
       "      <td>Buick</td>\n",
       "      <td>Century</td>\n",
       "      <td>Sedan 4D</td>\n",
       "      <td>Sedan</td>\n",
       "      <td>6</td>\n",
       "      <td>3.1</td>\n",
       "      <td>4</td>\n",
       "      <td>1</td>\n",
       "      <td>1</td>\n",
       "      <td>0</td>\n",
       "    </tr>\n",
       "    <tr>\n",
       "      <th>3</th>\n",
       "      <td>16336.913140</td>\n",
       "      <td>16342</td>\n",
       "      <td>Buick</td>\n",
       "      <td>Century</td>\n",
       "      <td>Sedan 4D</td>\n",
       "      <td>Sedan</td>\n",
       "      <td>6</td>\n",
       "      <td>3.1</td>\n",
       "      <td>4</td>\n",
       "      <td>1</td>\n",
       "      <td>0</td>\n",
       "      <td>0</td>\n",
       "    </tr>\n",
       "    <tr>\n",
       "      <th>4</th>\n",
       "      <td>16339.170324</td>\n",
       "      <td>19832</td>\n",
       "      <td>Buick</td>\n",
       "      <td>Century</td>\n",
       "      <td>Sedan 4D</td>\n",
       "      <td>Sedan</td>\n",
       "      <td>6</td>\n",
       "      <td>3.1</td>\n",
       "      <td>4</td>\n",
       "      <td>1</td>\n",
       "      <td>0</td>\n",
       "      <td>1</td>\n",
       "    </tr>\n",
       "    <tr>\n",
       "      <th>...</th>\n",
       "      <td>...</td>\n",
       "      <td>...</td>\n",
       "      <td>...</td>\n",
       "      <td>...</td>\n",
       "      <td>...</td>\n",
       "      <td>...</td>\n",
       "      <td>...</td>\n",
       "      <td>...</td>\n",
       "      <td>...</td>\n",
       "      <td>...</td>\n",
       "      <td>...</td>\n",
       "      <td>...</td>\n",
       "    </tr>\n",
       "    <tr>\n",
       "      <th>799</th>\n",
       "      <td>16507.070267</td>\n",
       "      <td>16229</td>\n",
       "      <td>Saturn</td>\n",
       "      <td>L Series</td>\n",
       "      <td>L300 Sedan 4D</td>\n",
       "      <td>Sedan</td>\n",
       "      <td>6</td>\n",
       "      <td>3.0</td>\n",
       "      <td>4</td>\n",
       "      <td>1</td>\n",
       "      <td>0</td>\n",
       "      <td>0</td>\n",
       "    </tr>\n",
       "    <tr>\n",
       "      <th>800</th>\n",
       "      <td>16175.957604</td>\n",
       "      <td>19095</td>\n",
       "      <td>Saturn</td>\n",
       "      <td>L Series</td>\n",
       "      <td>L300 Sedan 4D</td>\n",
       "      <td>Sedan</td>\n",
       "      <td>6</td>\n",
       "      <td>3.0</td>\n",
       "      <td>4</td>\n",
       "      <td>1</td>\n",
       "      <td>1</td>\n",
       "      <td>0</td>\n",
       "    </tr>\n",
       "    <tr>\n",
       "      <th>801</th>\n",
       "      <td>15731.132897</td>\n",
       "      <td>20484</td>\n",
       "      <td>Saturn</td>\n",
       "      <td>L Series</td>\n",
       "      <td>L300 Sedan 4D</td>\n",
       "      <td>Sedan</td>\n",
       "      <td>6</td>\n",
       "      <td>3.0</td>\n",
       "      <td>4</td>\n",
       "      <td>1</td>\n",
       "      <td>1</td>\n",
       "      <td>0</td>\n",
       "    </tr>\n",
       "    <tr>\n",
       "      <th>802</th>\n",
       "      <td>15118.893228</td>\n",
       "      <td>25979</td>\n",
       "      <td>Saturn</td>\n",
       "      <td>L Series</td>\n",
       "      <td>L300 Sedan 4D</td>\n",
       "      <td>Sedan</td>\n",
       "      <td>6</td>\n",
       "      <td>3.0</td>\n",
       "      <td>4</td>\n",
       "      <td>1</td>\n",
       "      <td>1</td>\n",
       "      <td>0</td>\n",
       "    </tr>\n",
       "    <tr>\n",
       "      <th>803</th>\n",
       "      <td>13585.636802</td>\n",
       "      <td>35662</td>\n",
       "      <td>Saturn</td>\n",
       "      <td>L Series</td>\n",
       "      <td>L300 Sedan 4D</td>\n",
       "      <td>Sedan</td>\n",
       "      <td>6</td>\n",
       "      <td>3.0</td>\n",
       "      <td>4</td>\n",
       "      <td>1</td>\n",
       "      <td>0</td>\n",
       "      <td>0</td>\n",
       "    </tr>\n",
       "  </tbody>\n",
       "</table>\n",
       "<p>804 rows × 12 columns</p>\n",
       "</div>"
      ],
      "text/plain": [
       "            Price  Mileage    Make     Model           Trim   Type  Cylinder  \\\n",
       "0    17314.103129     8221   Buick   Century       Sedan 4D  Sedan         6   \n",
       "1    17542.036083     9135   Buick   Century       Sedan 4D  Sedan         6   \n",
       "2    16218.847862    13196   Buick   Century       Sedan 4D  Sedan         6   \n",
       "3    16336.913140    16342   Buick   Century       Sedan 4D  Sedan         6   \n",
       "4    16339.170324    19832   Buick   Century       Sedan 4D  Sedan         6   \n",
       "..            ...      ...     ...       ...            ...    ...       ...   \n",
       "799  16507.070267    16229  Saturn  L Series  L300 Sedan 4D  Sedan         6   \n",
       "800  16175.957604    19095  Saturn  L Series  L300 Sedan 4D  Sedan         6   \n",
       "801  15731.132897    20484  Saturn  L Series  L300 Sedan 4D  Sedan         6   \n",
       "802  15118.893228    25979  Saturn  L Series  L300 Sedan 4D  Sedan         6   \n",
       "803  13585.636802    35662  Saturn  L Series  L300 Sedan 4D  Sedan         6   \n",
       "\n",
       "     Liter  Doors  Cruise  Sound  Leather  \n",
       "0      3.1      4       1      1        1  \n",
       "1      3.1      4       1      1        0  \n",
       "2      3.1      4       1      1        0  \n",
       "3      3.1      4       1      0        0  \n",
       "4      3.1      4       1      0        1  \n",
       "..     ...    ...     ...    ...      ...  \n",
       "799    3.0      4       1      0        0  \n",
       "800    3.0      4       1      1        0  \n",
       "801    3.0      4       1      1        0  \n",
       "802    3.0      4       1      1        0  \n",
       "803    3.0      4       1      0        0  \n",
       "\n",
       "[804 rows x 12 columns]"
      ]
     },
     "execution_count": 6,
     "metadata": {},
     "output_type": "execute_result"
    }
   ],
   "source": [
    "df"
   ]
  },
  {
   "cell_type": "code",
   "execution_count": 7,
   "metadata": {},
   "outputs": [
    {
     "data": {
      "text/html": [
       "<div>\n",
       "<style scoped>\n",
       "    .dataframe tbody tr th:only-of-type {\n",
       "        vertical-align: middle;\n",
       "    }\n",
       "\n",
       "    .dataframe tbody tr th {\n",
       "        vertical-align: top;\n",
       "    }\n",
       "\n",
       "    .dataframe thead th {\n",
       "        text-align: right;\n",
       "    }\n",
       "</style>\n",
       "<table border=\"1\" class=\"dataframe\">\n",
       "  <thead>\n",
       "    <tr style=\"text-align: right;\">\n",
       "      <th></th>\n",
       "      <th>Price</th>\n",
       "      <th>Mileage</th>\n",
       "      <th>Cylinder</th>\n",
       "      <th>Liter</th>\n",
       "      <th>Doors</th>\n",
       "      <th>Cruise</th>\n",
       "      <th>Sound</th>\n",
       "      <th>Leather</th>\n",
       "    </tr>\n",
       "  </thead>\n",
       "  <tbody>\n",
       "    <tr>\n",
       "      <th>count</th>\n",
       "      <td>804.000000</td>\n",
       "      <td>804.000000</td>\n",
       "      <td>804.000000</td>\n",
       "      <td>804.000000</td>\n",
       "      <td>804.000000</td>\n",
       "      <td>804.000000</td>\n",
       "      <td>804.000000</td>\n",
       "      <td>804.000000</td>\n",
       "    </tr>\n",
       "    <tr>\n",
       "      <th>mean</th>\n",
       "      <td>21343.143767</td>\n",
       "      <td>19831.934080</td>\n",
       "      <td>5.268657</td>\n",
       "      <td>3.037313</td>\n",
       "      <td>3.527363</td>\n",
       "      <td>0.752488</td>\n",
       "      <td>0.679104</td>\n",
       "      <td>0.723881</td>\n",
       "    </tr>\n",
       "    <tr>\n",
       "      <th>std</th>\n",
       "      <td>9884.852801</td>\n",
       "      <td>8196.319707</td>\n",
       "      <td>1.387531</td>\n",
       "      <td>1.105562</td>\n",
       "      <td>0.850169</td>\n",
       "      <td>0.431836</td>\n",
       "      <td>0.467111</td>\n",
       "      <td>0.447355</td>\n",
       "    </tr>\n",
       "    <tr>\n",
       "      <th>min</th>\n",
       "      <td>8638.930895</td>\n",
       "      <td>266.000000</td>\n",
       "      <td>4.000000</td>\n",
       "      <td>1.600000</td>\n",
       "      <td>2.000000</td>\n",
       "      <td>0.000000</td>\n",
       "      <td>0.000000</td>\n",
       "      <td>0.000000</td>\n",
       "    </tr>\n",
       "    <tr>\n",
       "      <th>25%</th>\n",
       "      <td>14273.073870</td>\n",
       "      <td>14623.500000</td>\n",
       "      <td>4.000000</td>\n",
       "      <td>2.200000</td>\n",
       "      <td>4.000000</td>\n",
       "      <td>1.000000</td>\n",
       "      <td>0.000000</td>\n",
       "      <td>0.000000</td>\n",
       "    </tr>\n",
       "    <tr>\n",
       "      <th>50%</th>\n",
       "      <td>18024.995019</td>\n",
       "      <td>20913.500000</td>\n",
       "      <td>6.000000</td>\n",
       "      <td>2.800000</td>\n",
       "      <td>4.000000</td>\n",
       "      <td>1.000000</td>\n",
       "      <td>1.000000</td>\n",
       "      <td>1.000000</td>\n",
       "    </tr>\n",
       "    <tr>\n",
       "      <th>75%</th>\n",
       "      <td>26717.316636</td>\n",
       "      <td>25213.000000</td>\n",
       "      <td>6.000000</td>\n",
       "      <td>3.800000</td>\n",
       "      <td>4.000000</td>\n",
       "      <td>1.000000</td>\n",
       "      <td>1.000000</td>\n",
       "      <td>1.000000</td>\n",
       "    </tr>\n",
       "    <tr>\n",
       "      <th>max</th>\n",
       "      <td>70755.466717</td>\n",
       "      <td>50387.000000</td>\n",
       "      <td>8.000000</td>\n",
       "      <td>6.000000</td>\n",
       "      <td>4.000000</td>\n",
       "      <td>1.000000</td>\n",
       "      <td>1.000000</td>\n",
       "      <td>1.000000</td>\n",
       "    </tr>\n",
       "  </tbody>\n",
       "</table>\n",
       "</div>"
      ],
      "text/plain": [
       "              Price       Mileage    Cylinder       Liter       Doors  \\\n",
       "count    804.000000    804.000000  804.000000  804.000000  804.000000   \n",
       "mean   21343.143767  19831.934080    5.268657    3.037313    3.527363   \n",
       "std     9884.852801   8196.319707    1.387531    1.105562    0.850169   \n",
       "min     8638.930895    266.000000    4.000000    1.600000    2.000000   \n",
       "25%    14273.073870  14623.500000    4.000000    2.200000    4.000000   \n",
       "50%    18024.995019  20913.500000    6.000000    2.800000    4.000000   \n",
       "75%    26717.316636  25213.000000    6.000000    3.800000    4.000000   \n",
       "max    70755.466717  50387.000000    8.000000    6.000000    4.000000   \n",
       "\n",
       "           Cruise       Sound     Leather  \n",
       "count  804.000000  804.000000  804.000000  \n",
       "mean     0.752488    0.679104    0.723881  \n",
       "std      0.431836    0.467111    0.447355  \n",
       "min      0.000000    0.000000    0.000000  \n",
       "25%      1.000000    0.000000    0.000000  \n",
       "50%      1.000000    1.000000    1.000000  \n",
       "75%      1.000000    1.000000    1.000000  \n",
       "max      1.000000    1.000000    1.000000  "
      ]
     },
     "execution_count": 7,
     "metadata": {},
     "output_type": "execute_result"
    }
   ],
   "source": [
    "df.describe()"
   ]
  },
  {
   "cell_type": "code",
   "execution_count": 8,
   "metadata": {},
   "outputs": [
    {
     "name": "stdout",
     "output_type": "stream",
     "text": [
      "<class 'pandas.core.frame.DataFrame'>\n",
      "RangeIndex: 804 entries, 0 to 803\n",
      "Data columns (total 12 columns):\n",
      " #   Column    Non-Null Count  Dtype  \n",
      "---  ------    --------------  -----  \n",
      " 0   Price     804 non-null    float64\n",
      " 1   Mileage   804 non-null    int64  \n",
      " 2   Make      804 non-null    object \n",
      " 3   Model     804 non-null    object \n",
      " 4   Trim      804 non-null    object \n",
      " 5   Type      804 non-null    object \n",
      " 6   Cylinder  804 non-null    int64  \n",
      " 7   Liter     804 non-null    float64\n",
      " 8   Doors     804 non-null    int64  \n",
      " 9   Cruise    804 non-null    int64  \n",
      " 10  Sound     804 non-null    int64  \n",
      " 11  Leather   804 non-null    int64  \n",
      "dtypes: float64(2), int64(6), object(4)\n",
      "memory usage: 75.5+ KB\n"
     ]
    }
   ],
   "source": [
    "df.info()"
   ]
  },
  {
   "cell_type": "code",
   "execution_count": 9,
   "metadata": {},
   "outputs": [
    {
     "data": {
      "text/plain": [
       "Price       float64\n",
       "Mileage       int64\n",
       "Make         object\n",
       "Model        object\n",
       "Trim         object\n",
       "Type         object\n",
       "Cylinder      int64\n",
       "Liter       float64\n",
       "Doors         int64\n",
       "Cruise        int64\n",
       "Sound         int64\n",
       "Leather       int64\n",
       "dtype: object"
      ]
     },
     "execution_count": 9,
     "metadata": {},
     "output_type": "execute_result"
    }
   ],
   "source": [
    "df.dtypes"
   ]
  },
  {
   "cell_type": "code",
   "execution_count": 10,
   "metadata": {},
   "outputs": [
    {
     "name": "stderr",
     "output_type": "stream",
     "text": [
      "C:\\Users\\Priyanka C\\AppData\\Local\\Temp\\ipykernel_5252\\1134722465.py:1: FutureWarning: The default value of numeric_only in DataFrame.corr is deprecated. In a future version, it will default to False. Select only valid columns or specify the value of numeric_only to silence this warning.\n",
      "  df.corr()\n"
     ]
    },
    {
     "data": {
      "text/html": [
       "<div>\n",
       "<style scoped>\n",
       "    .dataframe tbody tr th:only-of-type {\n",
       "        vertical-align: middle;\n",
       "    }\n",
       "\n",
       "    .dataframe tbody tr th {\n",
       "        vertical-align: top;\n",
       "    }\n",
       "\n",
       "    .dataframe thead th {\n",
       "        text-align: right;\n",
       "    }\n",
       "</style>\n",
       "<table border=\"1\" class=\"dataframe\">\n",
       "  <thead>\n",
       "    <tr style=\"text-align: right;\">\n",
       "      <th></th>\n",
       "      <th>Price</th>\n",
       "      <th>Mileage</th>\n",
       "      <th>Cylinder</th>\n",
       "      <th>Liter</th>\n",
       "      <th>Doors</th>\n",
       "      <th>Cruise</th>\n",
       "      <th>Sound</th>\n",
       "      <th>Leather</th>\n",
       "    </tr>\n",
       "  </thead>\n",
       "  <tbody>\n",
       "    <tr>\n",
       "      <th>Price</th>\n",
       "      <td>1.000000</td>\n",
       "      <td>-0.143051</td>\n",
       "      <td>0.569086</td>\n",
       "      <td>0.558146</td>\n",
       "      <td>-0.138750</td>\n",
       "      <td>0.430851</td>\n",
       "      <td>-0.124348</td>\n",
       "      <td>0.157197</td>\n",
       "    </tr>\n",
       "    <tr>\n",
       "      <th>Mileage</th>\n",
       "      <td>-0.143051</td>\n",
       "      <td>1.000000</td>\n",
       "      <td>-0.029461</td>\n",
       "      <td>-0.018641</td>\n",
       "      <td>-0.016944</td>\n",
       "      <td>0.025037</td>\n",
       "      <td>-0.026146</td>\n",
       "      <td>0.001005</td>\n",
       "    </tr>\n",
       "    <tr>\n",
       "      <th>Cylinder</th>\n",
       "      <td>0.569086</td>\n",
       "      <td>-0.029461</td>\n",
       "      <td>1.000000</td>\n",
       "      <td>0.957897</td>\n",
       "      <td>0.002206</td>\n",
       "      <td>0.354285</td>\n",
       "      <td>-0.089704</td>\n",
       "      <td>0.075520</td>\n",
       "    </tr>\n",
       "    <tr>\n",
       "      <th>Liter</th>\n",
       "      <td>0.558146</td>\n",
       "      <td>-0.018641</td>\n",
       "      <td>0.957897</td>\n",
       "      <td>1.000000</td>\n",
       "      <td>-0.079259</td>\n",
       "      <td>0.377509</td>\n",
       "      <td>-0.065527</td>\n",
       "      <td>0.087332</td>\n",
       "    </tr>\n",
       "    <tr>\n",
       "      <th>Doors</th>\n",
       "      <td>-0.138750</td>\n",
       "      <td>-0.016944</td>\n",
       "      <td>0.002206</td>\n",
       "      <td>-0.079259</td>\n",
       "      <td>1.000000</td>\n",
       "      <td>-0.047674</td>\n",
       "      <td>-0.062530</td>\n",
       "      <td>-0.061969</td>\n",
       "    </tr>\n",
       "    <tr>\n",
       "      <th>Cruise</th>\n",
       "      <td>0.430851</td>\n",
       "      <td>0.025037</td>\n",
       "      <td>0.354285</td>\n",
       "      <td>0.377509</td>\n",
       "      <td>-0.047674</td>\n",
       "      <td>1.000000</td>\n",
       "      <td>-0.091730</td>\n",
       "      <td>-0.070573</td>\n",
       "    </tr>\n",
       "    <tr>\n",
       "      <th>Sound</th>\n",
       "      <td>-0.124348</td>\n",
       "      <td>-0.026146</td>\n",
       "      <td>-0.089704</td>\n",
       "      <td>-0.065527</td>\n",
       "      <td>-0.062530</td>\n",
       "      <td>-0.091730</td>\n",
       "      <td>1.000000</td>\n",
       "      <td>0.165444</td>\n",
       "    </tr>\n",
       "    <tr>\n",
       "      <th>Leather</th>\n",
       "      <td>0.157197</td>\n",
       "      <td>0.001005</td>\n",
       "      <td>0.075520</td>\n",
       "      <td>0.087332</td>\n",
       "      <td>-0.061969</td>\n",
       "      <td>-0.070573</td>\n",
       "      <td>0.165444</td>\n",
       "      <td>1.000000</td>\n",
       "    </tr>\n",
       "  </tbody>\n",
       "</table>\n",
       "</div>"
      ],
      "text/plain": [
       "             Price   Mileage  Cylinder     Liter     Doors    Cruise  \\\n",
       "Price     1.000000 -0.143051  0.569086  0.558146 -0.138750  0.430851   \n",
       "Mileage  -0.143051  1.000000 -0.029461 -0.018641 -0.016944  0.025037   \n",
       "Cylinder  0.569086 -0.029461  1.000000  0.957897  0.002206  0.354285   \n",
       "Liter     0.558146 -0.018641  0.957897  1.000000 -0.079259  0.377509   \n",
       "Doors    -0.138750 -0.016944  0.002206 -0.079259  1.000000 -0.047674   \n",
       "Cruise    0.430851  0.025037  0.354285  0.377509 -0.047674  1.000000   \n",
       "Sound    -0.124348 -0.026146 -0.089704 -0.065527 -0.062530 -0.091730   \n",
       "Leather   0.157197  0.001005  0.075520  0.087332 -0.061969 -0.070573   \n",
       "\n",
       "             Sound   Leather  \n",
       "Price    -0.124348  0.157197  \n",
       "Mileage  -0.026146  0.001005  \n",
       "Cylinder -0.089704  0.075520  \n",
       "Liter    -0.065527  0.087332  \n",
       "Doors    -0.062530 -0.061969  \n",
       "Cruise   -0.091730 -0.070573  \n",
       "Sound     1.000000  0.165444  \n",
       "Leather   0.165444  1.000000  "
      ]
     },
     "execution_count": 10,
     "metadata": {},
     "output_type": "execute_result"
    }
   ],
   "source": [
    "df.corr()"
   ]
  },
  {
   "attachments": {},
   "cell_type": "markdown",
   "metadata": {},
   "source": [
    "# Task 1\n",
    "1. Find the linear regression equation for mileage vs price."
   ]
  },
  {
   "cell_type": "code",
   "execution_count": 11,
   "metadata": {},
   "outputs": [
    {
     "data": {
      "image/png": "[encoded data removed]",
      "text/plain": [
       "<Figure size 640x480 with 1 Axes>"
      ]
     },
     "metadata": {},
     "output_type": "display_data"
    }
   ],
   "source": [
    "df.plot(x='Mileage', y='Price', style='+')\n",
    "plt.title('Mileage Vs Price')\n",
    "plt.xlabel('Mileage')\n",
    "plt.ylabel('Price')\n",
    "plt.show()"
   ]
  },
  {
   "cell_type": "code",
   "execution_count": 12,
   "metadata": {},
   "outputs": [
    {
     "data": {
      "text/plain": [
       "((562, 1), (242, 1))"
      ]
     },
     "execution_count": 12,
     "metadata": {},
     "output_type": "execute_result"
    }
   ],
   "source": [
    "X = df[['Mileage']].values\n",
    "y = df['Price'].values  \n",
    "\n",
    "from sklearn.model_selection import train_test_split\n",
    "X_train, X_test, y_train, y_test = train_test_split(X, y, test_size=0.3,random_state = 2)\n",
    "X_train.shape, X_test.shape"
   ]
  },
  {
   "cell_type": "code",
   "execution_count": 13,
   "metadata": {},
   "outputs": [
    {
     "name": "stdout",
     "output_type": "stream",
     "text": [
      "-0.17786542463071636\n",
      "25099.932090095834\n"
     ]
    }
   ],
   "source": [
    "regressor = LinearRegression()\n",
    "regressor.fit(X_train,y_train)\n",
    "y_pred = regressor.predict(X_test)\n",
    "m = regressor.coef_[0]\n",
    "c = regressor.intercept_\n",
    "print(m)\n",
    "print(c)"
   ]
  },
  {
   "cell_type": "code",
   "execution_count": 14,
   "metadata": {},
   "outputs": [
    {
     "name": "stdout",
     "output_type": "stream",
     "text": [
      "Prediction of Price (Y) = -0.17786542463071636 * Mileage (x) + 25099.932090095834\n"
     ]
    }
   ],
   "source": [
    "## we have the value of the intercept and the coefficient, now we will form the equation\n",
    "## y = m*x + c\n",
    "print(\"Prediction of Price (Y) = {} * Mileage (x) + {}\".format(m,c))"
   ]
  },
  {
   "attachments": {},
   "cell_type": "markdown",
   "metadata": {},
   "source": [
    "2. Chart the original data and the equation on the chart.\n"
   ]
  },
  {
   "cell_type": "code",
   "execution_count": 15,
   "metadata": {},
   "outputs": [
    {
     "data": {
      "image/png": "[encoded data removed]",
      "text/plain": [
       "<Figure size 640x480 with 1 Axes>"
      ]
     },
     "metadata": {},
     "output_type": "display_data"
    }
   ],
   "source": [
    "plt.scatter(X, y, color='red')\n",
    "plt.plot(X_test, y_pred)\n",
    "plt.title('Mileage vs Price')\n",
    "plt.xlabel('Mileage')\n",
    "plt.ylabel('Price')\n",
    "plt.show()"
   ]
  },
  {
   "attachments": {},
   "cell_type": "markdown",
   "metadata": {},
   "source": [
    "3. Find the equation's  𝑅2  score (use the .score method) to determine whether the equation is a good fit for this data. (0.8 and greater is considered a strong correlation.)"
   ]
  },
  {
   "cell_type": "code",
   "execution_count": 16,
   "metadata": {},
   "outputs": [
    {
     "name": "stdout",
     "output_type": "stream",
     "text": [
      "R2- SCORE: 0.011465819598535765\n"
     ]
    },
    {
     "data": {
      "text/plain": [
       "0.011465819598535765"
      ]
     },
     "execution_count": 16,
     "metadata": {},
     "output_type": "execute_result"
    }
   ],
   "source": [
    "from sklearn import metrics \n",
    "print('R2- SCORE:', metrics.r2_score(y_test,y_pred))\n",
    "regressor.score(X_test,y_test)"
   ]
  },
  {
   "attachments": {},
   "cell_type": "markdown",
   "metadata": {},
   "source": [
    "# Tasks, Part 2\n",
    "1. Use mileage, cylinders, liters, doors, cruise, sound, and leather to find the linear regression equation."
   ]
  },
  {
   "cell_type": "code",
   "execution_count": 17,
   "metadata": {},
   "outputs": [
    {
     "data": {
      "text/plain": [
       "((562, 7), (242, 7))"
      ]
     },
     "execution_count": 17,
     "metadata": {},
     "output_type": "execute_result"
    }
   ],
   "source": [
    "X = df[['Mileage','Cylinder','Liter','Doors','Cruise','Sound','Leather']].values\n",
    "y = df['Price'].values  \n",
    "\n",
    "from sklearn.model_selection import train_test_split\n",
    "X_train, X_test, y_train, y_test = train_test_split(X, y, test_size=0.3,random_state = 2)\n",
    "X_train.shape, X_test.shape"
   ]
  },
  {
   "cell_type": "code",
   "execution_count": 18,
   "metadata": {},
   "outputs": [
    {
     "name": "stdout",
     "output_type": "stream",
     "text": [
      "m1 -0.18063742612698813\n",
      "m2 3938.6789699073884\n",
      "m3 -818.9548140556993\n",
      "m4 -0.18063742612698813\n",
      "m5 6221.601603529276\n",
      "m6 -1819.255853608865\n",
      "m7 3705.8816725253537\n",
      "c 5566.494682031069\n"
     ]
    }
   ],
   "source": [
    "regressor = LinearRegression()\n",
    "regressor.fit(X_train,y_train)\n",
    "y_pred = regressor.predict(X_test)\n",
    "m1 = regressor.coef_[0]\n",
    "m2 = regressor.coef_[1]\n",
    "m3 = regressor.coef_[2]\n",
    "m4 = regressor.coef_[3]\n",
    "m5 = regressor.coef_[4]\n",
    "m6 = regressor.coef_[5]\n",
    "m7 = regressor.coef_[6]\n",
    "c = regressor.intercept_\n",
    "print('m1',m1)\n",
    "print('m2',m2)\n",
    "print('m3',m3)\n",
    "print('m4',m1)\n",
    "print('m5',m5)\n",
    "print('m6',m6)\n",
    "print('m7',m7)\n",
    "print('c',c)"
   ]
  },
  {
   "cell_type": "code",
   "execution_count": 19,
   "metadata": {},
   "outputs": [
    {
     "name": "stdout",
     "output_type": "stream",
     "text": [
      "Prediction of Price (Y) = -0.18063742612698813 * Mileage(x1) + 3938.6789699073884 * Cylinder(x2) + -818.9548140556993 * Liter(x3) + -1441.5651543768824 * Doors(x4) + 6221.601603529276 *  Cruise(x5) + -1819.255853608865 *  Sound(x5) + 3705.8816725253537 *  Leather(x5) + 5566.494682031069\n"
     ]
    }
   ],
   "source": [
    "## we have the value of the intercept and the coefficient, now we will form the equation\n",
    "## y = m*x + c\n",
    "print(\"Prediction of Price (Y) = {} * Mileage(x1) + {} * Cylinder(x2) + {} * Liter(x3) + {} * Doors(x4) + {} *  Cruise(x5) + {} *  Sound(x5) + {} *  Leather(x5) + {}\". format(m1,m2,m3,m4,m5,m6,m7,c))"
   ]
  },
  {
   "attachments": {},
   "cell_type": "markdown",
   "metadata": {},
   "source": [
    "2. Find the equation's  𝑅2  score (use the .score method) to determine whether the equation is a good fit for this data. (0.8 and greater is considered a strong correlation.)"
   ]
  },
  {
   "cell_type": "code",
   "execution_count": 20,
   "metadata": {},
   "outputs": [
    {
     "name": "stdout",
     "output_type": "stream",
     "text": [
      "R2- SCORE: 0.388016330616605\n"
     ]
    },
    {
     "data": {
      "text/plain": [
       "0.388016330616605"
      ]
     },
     "execution_count": 20,
     "metadata": {},
     "output_type": "execute_result"
    }
   ],
   "source": [
    "from sklearn import metrics \n",
    "print('R2- SCORE:', metrics.r2_score(y_test,y_pred))\n",
    "regressor.score(X_test,y_test)"
   ]
  },
  {
   "attachments": {},
   "cell_type": "markdown",
   "metadata": {},
   "source": [
    "3. Find the combination of the factors that is the best predictor for price."
   ]
  },
  {
   "cell_type": "code",
   "execution_count": 21,
   "metadata": {},
   "outputs": [
    {
     "name": "stderr",
     "output_type": "stream",
     "text": [
      "C:\\Users\\Priyanka C\\AppData\\Local\\Temp\\ipykernel_5252\\1134722465.py:1: FutureWarning: The default value of numeric_only in DataFrame.corr is deprecated. In a future version, it will default to False. Select only valid columns or specify the value of numeric_only to silence this warning.\n",
      "  df.corr()\n"
     ]
    },
    {
     "data": {
      "text/html": [
       "<div>\n",
       "<style scoped>\n",
       "    .dataframe tbody tr th:only-of-type {\n",
       "        vertical-align: middle;\n",
       "    }\n",
       "\n",
       "    .dataframe tbody tr th {\n",
       "        vertical-align: top;\n",
       "    }\n",
       "\n",
       "    .dataframe thead th {\n",
       "        text-align: right;\n",
       "    }\n",
       "</style>\n",
       "<table border=\"1\" class=\"dataframe\">\n",
       "  <thead>\n",
       "    <tr style=\"text-align: right;\">\n",
       "      <th></th>\n",
       "      <th>Price</th>\n",
       "      <th>Mileage</th>\n",
       "      <th>Cylinder</th>\n",
       "      <th>Liter</th>\n",
       "      <th>Doors</th>\n",
       "      <th>Cruise</th>\n",
       "      <th>Sound</th>\n",
       "      <th>Leather</th>\n",
       "    </tr>\n",
       "  </thead>\n",
       "  <tbody>\n",
       "    <tr>\n",
       "      <th>Price</th>\n",
       "      <td>1.000000</td>\n",
       "      <td>-0.143051</td>\n",
       "      <td>0.569086</td>\n",
       "      <td>0.558146</td>\n",
       "      <td>-0.138750</td>\n",
       "      <td>0.430851</td>\n",
       "      <td>-0.124348</td>\n",
       "      <td>0.157197</td>\n",
       "    </tr>\n",
       "    <tr>\n",
       "      <th>Mileage</th>\n",
       "      <td>-0.143051</td>\n",
       "      <td>1.000000</td>\n",
       "      <td>-0.029461</td>\n",
       "      <td>-0.018641</td>\n",
       "      <td>-0.016944</td>\n",
       "      <td>0.025037</td>\n",
       "      <td>-0.026146</td>\n",
       "      <td>0.001005</td>\n",
       "    </tr>\n",
       "    <tr>\n",
       "      <th>Cylinder</th>\n",
       "      <td>0.569086</td>\n",
       "      <td>-0.029461</td>\n",
       "      <td>1.000000</td>\n",
       "      <td>0.957897</td>\n",
       "      <td>0.002206</td>\n",
       "      <td>0.354285</td>\n",
       "      <td>-0.089704</td>\n",
       "      <td>0.075520</td>\n",
       "    </tr>\n",
       "    <tr>\n",
       "      <th>Liter</th>\n",
       "      <td>0.558146</td>\n",
       "      <td>-0.018641</td>\n",
       "      <td>0.957897</td>\n",
       "      <td>1.000000</td>\n",
       "      <td>-0.079259</td>\n",
       "      <td>0.377509</td>\n",
       "      <td>-0.065527</td>\n",
       "      <td>0.087332</td>\n",
       "    </tr>\n",
       "    <tr>\n",
       "      <th>Doors</th>\n",
       "      <td>-0.138750</td>\n",
       "      <td>-0.016944</td>\n",
       "      <td>0.002206</td>\n",
       "      <td>-0.079259</td>\n",
       "      <td>1.000000</td>\n",
       "      <td>-0.047674</td>\n",
       "      <td>-0.062530</td>\n",
       "      <td>-0.061969</td>\n",
       "    </tr>\n",
       "    <tr>\n",
       "      <th>Cruise</th>\n",
       "      <td>0.430851</td>\n",
       "      <td>0.025037</td>\n",
       "      <td>0.354285</td>\n",
       "      <td>0.377509</td>\n",
       "      <td>-0.047674</td>\n",
       "      <td>1.000000</td>\n",
       "      <td>-0.091730</td>\n",
       "      <td>-0.070573</td>\n",
       "    </tr>\n",
       "    <tr>\n",
       "      <th>Sound</th>\n",
       "      <td>-0.124348</td>\n",
       "      <td>-0.026146</td>\n",
       "      <td>-0.089704</td>\n",
       "      <td>-0.065527</td>\n",
       "      <td>-0.062530</td>\n",
       "      <td>-0.091730</td>\n",
       "      <td>1.000000</td>\n",
       "      <td>0.165444</td>\n",
       "    </tr>\n",
       "    <tr>\n",
       "      <th>Leather</th>\n",
       "      <td>0.157197</td>\n",
       "      <td>0.001005</td>\n",
       "      <td>0.075520</td>\n",
       "      <td>0.087332</td>\n",
       "      <td>-0.061969</td>\n",
       "      <td>-0.070573</td>\n",
       "      <td>0.165444</td>\n",
       "      <td>1.000000</td>\n",
       "    </tr>\n",
       "  </tbody>\n",
       "</table>\n",
       "</div>"
      ],
      "text/plain": [
       "             Price   Mileage  Cylinder     Liter     Doors    Cruise  \\\n",
       "Price     1.000000 -0.143051  0.569086  0.558146 -0.138750  0.430851   \n",
       "Mileage  -0.143051  1.000000 -0.029461 -0.018641 -0.016944  0.025037   \n",
       "Cylinder  0.569086 -0.029461  1.000000  0.957897  0.002206  0.354285   \n",
       "Liter     0.558146 -0.018641  0.957897  1.000000 -0.079259  0.377509   \n",
       "Doors    -0.138750 -0.016944  0.002206 -0.079259  1.000000 -0.047674   \n",
       "Cruise    0.430851  0.025037  0.354285  0.377509 -0.047674  1.000000   \n",
       "Sound    -0.124348 -0.026146 -0.089704 -0.065527 -0.062530 -0.091730   \n",
       "Leather   0.157197  0.001005  0.075520  0.087332 -0.061969 -0.070573   \n",
       "\n",
       "             Sound   Leather  \n",
       "Price    -0.124348  0.157197  \n",
       "Mileage  -0.026146  0.001005  \n",
       "Cylinder -0.089704  0.075520  \n",
       "Liter    -0.065527  0.087332  \n",
       "Doors    -0.062530 -0.061969  \n",
       "Cruise   -0.091730 -0.070573  \n",
       "Sound     1.000000  0.165444  \n",
       "Leather   0.165444  1.000000  "
      ]
     },
     "execution_count": 21,
     "metadata": {},
     "output_type": "execute_result"
    }
   ],
   "source": [
    "df.corr()"
   ]
  },
  {
   "attachments": {},
   "cell_type": "markdown",
   "metadata": {},
   "source": [
    "### From the above table, it is clear that the correlation factor was quite low with mileage, doors and Sound. Hence, we are considering the rest"
   ]
  },
  {
   "cell_type": "code",
   "execution_count": 22,
   "metadata": {},
   "outputs": [
    {
     "name": "stdout",
     "output_type": "stream",
     "text": [
      "R2- SCORE: 0.3419289728359025\n"
     ]
    },
    {
     "data": {
      "text/plain": [
       "0.3419289728359025"
      ]
     },
     "execution_count": 22,
     "metadata": {},
     "output_type": "execute_result"
    }
   ],
   "source": [
    "X = df[['Cylinder','Liter','Cruise','Leather']].values\n",
    "y = df['Price'].values  \n",
    "\n",
    "from sklearn.model_selection import train_test_split\n",
    "X_train, X_test, y_train, y_test = train_test_split(X, y, test_size=0.3,random_state = 2)\n",
    "X_train.shape, X_test.shape\n",
    "regressor = LinearRegression()\n",
    "regressor.fit(X_train,y_train)\n",
    "y_pred = regressor.predict(X_test)\n",
    "from sklearn import metrics \n",
    "print('R2- SCORE:', metrics.r2_score(y_test,y_pred))\n",
    "regressor.score(X_test,y_test)"
   ]
  },
  {
   "attachments": {},
   "cell_type": "markdown",
   "metadata": {},
   "source": [
    "# Tasks, Hard Mode\n",
    "1. Research dummy variables in scikit-learn to see how to use the make, model, and body type."
   ]
  },
  {
   "cell_type": "code",
   "execution_count": 23,
   "metadata": {},
   "outputs": [
    {
     "data": {
      "text/html": [
       "<div>\n",
       "<style scoped>\n",
       "    .dataframe tbody tr th:only-of-type {\n",
       "        vertical-align: middle;\n",
       "    }\n",
       "\n",
       "    .dataframe tbody tr th {\n",
       "        vertical-align: top;\n",
       "    }\n",
       "\n",
       "    .dataframe thead th {\n",
       "        text-align: right;\n",
       "    }\n",
       "</style>\n",
       "<table border=\"1\" class=\"dataframe\">\n",
       "  <thead>\n",
       "    <tr style=\"text-align: right;\">\n",
       "      <th></th>\n",
       "      <th>Price</th>\n",
       "      <th>Mileage</th>\n",
       "      <th>Trim</th>\n",
       "      <th>Cylinder</th>\n",
       "      <th>Liter</th>\n",
       "      <th>Doors</th>\n",
       "      <th>Cruise</th>\n",
       "      <th>Sound</th>\n",
       "      <th>Leather</th>\n",
       "      <th>Make_Buick</th>\n",
       "      <th>...</th>\n",
       "      <th>Model_STS-V6</th>\n",
       "      <th>Model_STS-V8</th>\n",
       "      <th>Model_Sunfire</th>\n",
       "      <th>Model_Vibe</th>\n",
       "      <th>Model_XLR-V8</th>\n",
       "      <th>Type_Convertible</th>\n",
       "      <th>Type_Coupe</th>\n",
       "      <th>Type_Hatchback</th>\n",
       "      <th>Type_Sedan</th>\n",
       "      <th>Type_Wagon</th>\n",
       "    </tr>\n",
       "  </thead>\n",
       "  <tbody>\n",
       "    <tr>\n",
       "      <th>0</th>\n",
       "      <td>17314.103129</td>\n",
       "      <td>8221</td>\n",
       "      <td>Sedan 4D</td>\n",
       "      <td>6</td>\n",
       "      <td>3.1</td>\n",
       "      <td>4</td>\n",
       "      <td>1</td>\n",
       "      <td>1</td>\n",
       "      <td>1</td>\n",
       "      <td>1</td>\n",
       "      <td>...</td>\n",
       "      <td>0</td>\n",
       "      <td>0</td>\n",
       "      <td>0</td>\n",
       "      <td>0</td>\n",
       "      <td>0</td>\n",
       "      <td>0</td>\n",
       "      <td>0</td>\n",
       "      <td>0</td>\n",
       "      <td>1</td>\n",
       "      <td>0</td>\n",
       "    </tr>\n",
       "    <tr>\n",
       "      <th>1</th>\n",
       "      <td>17542.036083</td>\n",
       "      <td>9135</td>\n",
       "      <td>Sedan 4D</td>\n",
       "      <td>6</td>\n",
       "      <td>3.1</td>\n",
       "      <td>4</td>\n",
       "      <td>1</td>\n",
       "      <td>1</td>\n",
       "      <td>0</td>\n",
       "      <td>1</td>\n",
       "      <td>...</td>\n",
       "      <td>0</td>\n",
       "      <td>0</td>\n",
       "      <td>0</td>\n",
       "      <td>0</td>\n",
       "      <td>0</td>\n",
       "      <td>0</td>\n",
       "      <td>0</td>\n",
       "      <td>0</td>\n",
       "      <td>1</td>\n",
       "      <td>0</td>\n",
       "    </tr>\n",
       "    <tr>\n",
       "      <th>2</th>\n",
       "      <td>16218.847862</td>\n",
       "      <td>13196</td>\n",
       "      <td>Sedan 4D</td>\n",
       "      <td>6</td>\n",
       "      <td>3.1</td>\n",
       "      <td>4</td>\n",
       "      <td>1</td>\n",
       "      <td>1</td>\n",
       "      <td>0</td>\n",
       "      <td>1</td>\n",
       "      <td>...</td>\n",
       "      <td>0</td>\n",
       "      <td>0</td>\n",
       "      <td>0</td>\n",
       "      <td>0</td>\n",
       "      <td>0</td>\n",
       "      <td>0</td>\n",
       "      <td>0</td>\n",
       "      <td>0</td>\n",
       "      <td>1</td>\n",
       "      <td>0</td>\n",
       "    </tr>\n",
       "    <tr>\n",
       "      <th>3</th>\n",
       "      <td>16336.913140</td>\n",
       "      <td>16342</td>\n",
       "      <td>Sedan 4D</td>\n",
       "      <td>6</td>\n",
       "      <td>3.1</td>\n",
       "      <td>4</td>\n",
       "      <td>1</td>\n",
       "      <td>0</td>\n",
       "      <td>0</td>\n",
       "      <td>1</td>\n",
       "      <td>...</td>\n",
       "      <td>0</td>\n",
       "      <td>0</td>\n",
       "      <td>0</td>\n",
       "      <td>0</td>\n",
       "      <td>0</td>\n",
       "      <td>0</td>\n",
       "      <td>0</td>\n",
       "      <td>0</td>\n",
       "      <td>1</td>\n",
       "      <td>0</td>\n",
       "    </tr>\n",
       "    <tr>\n",
       "      <th>4</th>\n",
       "      <td>16339.170324</td>\n",
       "      <td>19832</td>\n",
       "      <td>Sedan 4D</td>\n",
       "      <td>6</td>\n",
       "      <td>3.1</td>\n",
       "      <td>4</td>\n",
       "      <td>1</td>\n",
       "      <td>0</td>\n",
       "      <td>1</td>\n",
       "      <td>1</td>\n",
       "      <td>...</td>\n",
       "      <td>0</td>\n",
       "      <td>0</td>\n",
       "      <td>0</td>\n",
       "      <td>0</td>\n",
       "      <td>0</td>\n",
       "      <td>0</td>\n",
       "      <td>0</td>\n",
       "      <td>0</td>\n",
       "      <td>1</td>\n",
       "      <td>0</td>\n",
       "    </tr>\n",
       "    <tr>\n",
       "      <th>...</th>\n",
       "      <td>...</td>\n",
       "      <td>...</td>\n",
       "      <td>...</td>\n",
       "      <td>...</td>\n",
       "      <td>...</td>\n",
       "      <td>...</td>\n",
       "      <td>...</td>\n",
       "      <td>...</td>\n",
       "      <td>...</td>\n",
       "      <td>...</td>\n",
       "      <td>...</td>\n",
       "      <td>...</td>\n",
       "      <td>...</td>\n",
       "      <td>...</td>\n",
       "      <td>...</td>\n",
       "      <td>...</td>\n",
       "      <td>...</td>\n",
       "      <td>...</td>\n",
       "      <td>...</td>\n",
       "      <td>...</td>\n",
       "      <td>...</td>\n",
       "    </tr>\n",
       "    <tr>\n",
       "      <th>799</th>\n",
       "      <td>16507.070267</td>\n",
       "      <td>16229</td>\n",
       "      <td>L300 Sedan 4D</td>\n",
       "      <td>6</td>\n",
       "      <td>3.0</td>\n",
       "      <td>4</td>\n",
       "      <td>1</td>\n",
       "      <td>0</td>\n",
       "      <td>0</td>\n",
       "      <td>0</td>\n",
       "      <td>...</td>\n",
       "      <td>0</td>\n",
       "      <td>0</td>\n",
       "      <td>0</td>\n",
       "      <td>0</td>\n",
       "      <td>0</td>\n",
       "      <td>0</td>\n",
       "      <td>0</td>\n",
       "      <td>0</td>\n",
       "      <td>1</td>\n",
       "      <td>0</td>\n",
       "    </tr>\n",
       "    <tr>\n",
       "      <th>800</th>\n",
       "      <td>16175.957604</td>\n",
       "      <td>19095</td>\n",
       "      <td>L300 Sedan 4D</td>\n",
       "      <td>6</td>\n",
       "      <td>3.0</td>\n",
       "      <td>4</td>\n",
       "      <td>1</td>\n",
       "      <td>1</td>\n",
       "      <td>0</td>\n",
       "      <td>0</td>\n",
       "      <td>...</td>\n",
       "      <td>0</td>\n",
       "      <td>0</td>\n",
       "      <td>0</td>\n",
       "      <td>0</td>\n",
       "      <td>0</td>\n",
       "      <td>0</td>\n",
       "      <td>0</td>\n",
       "      <td>0</td>\n",
       "      <td>1</td>\n",
       "      <td>0</td>\n",
       "    </tr>\n",
       "    <tr>\n",
       "      <th>801</th>\n",
       "      <td>15731.132897</td>\n",
       "      <td>20484</td>\n",
       "      <td>L300 Sedan 4D</td>\n",
       "      <td>6</td>\n",
       "      <td>3.0</td>\n",
       "      <td>4</td>\n",
       "      <td>1</td>\n",
       "      <td>1</td>\n",
       "      <td>0</td>\n",
       "      <td>0</td>\n",
       "      <td>...</td>\n",
       "      <td>0</td>\n",
       "      <td>0</td>\n",
       "      <td>0</td>\n",
       "      <td>0</td>\n",
       "      <td>0</td>\n",
       "      <td>0</td>\n",
       "      <td>0</td>\n",
       "      <td>0</td>\n",
       "      <td>1</td>\n",
       "      <td>0</td>\n",
       "    </tr>\n",
       "    <tr>\n",
       "      <th>802</th>\n",
       "      <td>15118.893228</td>\n",
       "      <td>25979</td>\n",
       "      <td>L300 Sedan 4D</td>\n",
       "      <td>6</td>\n",
       "      <td>3.0</td>\n",
       "      <td>4</td>\n",
       "      <td>1</td>\n",
       "      <td>1</td>\n",
       "      <td>0</td>\n",
       "      <td>0</td>\n",
       "      <td>...</td>\n",
       "      <td>0</td>\n",
       "      <td>0</td>\n",
       "      <td>0</td>\n",
       "      <td>0</td>\n",
       "      <td>0</td>\n",
       "      <td>0</td>\n",
       "      <td>0</td>\n",
       "      <td>0</td>\n",
       "      <td>1</td>\n",
       "      <td>0</td>\n",
       "    </tr>\n",
       "    <tr>\n",
       "      <th>803</th>\n",
       "      <td>13585.636802</td>\n",
       "      <td>35662</td>\n",
       "      <td>L300 Sedan 4D</td>\n",
       "      <td>6</td>\n",
       "      <td>3.0</td>\n",
       "      <td>4</td>\n",
       "      <td>1</td>\n",
       "      <td>0</td>\n",
       "      <td>0</td>\n",
       "      <td>0</td>\n",
       "      <td>...</td>\n",
       "      <td>0</td>\n",
       "      <td>0</td>\n",
       "      <td>0</td>\n",
       "      <td>0</td>\n",
       "      <td>0</td>\n",
       "      <td>0</td>\n",
       "      <td>0</td>\n",
       "      <td>0</td>\n",
       "      <td>1</td>\n",
       "      <td>0</td>\n",
       "    </tr>\n",
       "  </tbody>\n",
       "</table>\n",
       "<p>804 rows × 52 columns</p>\n",
       "</div>"
      ],
      "text/plain": [
       "            Price  Mileage           Trim  Cylinder  Liter  Doors  Cruise  \\\n",
       "0    17314.103129     8221       Sedan 4D         6    3.1      4       1   \n",
       "1    17542.036083     9135       Sedan 4D         6    3.1      4       1   \n",
       "2    16218.847862    13196       Sedan 4D         6    3.1      4       1   \n",
       "3    16336.913140    16342       Sedan 4D         6    3.1      4       1   \n",
       "4    16339.170324    19832       Sedan 4D         6    3.1      4       1   \n",
       "..            ...      ...            ...       ...    ...    ...     ...   \n",
       "799  16507.070267    16229  L300 Sedan 4D         6    3.0      4       1   \n",
       "800  16175.957604    19095  L300 Sedan 4D         6    3.0      4       1   \n",
       "801  15731.132897    20484  L300 Sedan 4D         6    3.0      4       1   \n",
       "802  15118.893228    25979  L300 Sedan 4D         6    3.0      4       1   \n",
       "803  13585.636802    35662  L300 Sedan 4D         6    3.0      4       1   \n",
       "\n",
       "     Sound  Leather  Make_Buick  ...  Model_STS-V6  Model_STS-V8  \\\n",
       "0        1        1           1  ...             0             0   \n",
       "1        1        0           1  ...             0             0   \n",
       "2        1        0           1  ...             0             0   \n",
       "3        0        0           1  ...             0             0   \n",
       "4        0        1           1  ...             0             0   \n",
       "..     ...      ...         ...  ...           ...           ...   \n",
       "799      0        0           0  ...             0             0   \n",
       "800      1        0           0  ...             0             0   \n",
       "801      1        0           0  ...             0             0   \n",
       "802      1        0           0  ...             0             0   \n",
       "803      0        0           0  ...             0             0   \n",
       "\n",
       "     Model_Sunfire  Model_Vibe  Model_XLR-V8  Type_Convertible  Type_Coupe  \\\n",
       "0                0           0             0                 0           0   \n",
       "1                0           0             0                 0           0   \n",
       "2                0           0             0                 0           0   \n",
       "3                0           0             0                 0           0   \n",
       "4                0           0             0                 0           0   \n",
       "..             ...         ...           ...               ...         ...   \n",
       "799              0           0             0                 0           0   \n",
       "800              0           0             0                 0           0   \n",
       "801              0           0             0                 0           0   \n",
       "802              0           0             0                 0           0   \n",
       "803              0           0             0                 0           0   \n",
       "\n",
       "     Type_Hatchback  Type_Sedan  Type_Wagon  \n",
       "0                 0           1           0  \n",
       "1                 0           1           0  \n",
       "2                 0           1           0  \n",
       "3                 0           1           0  \n",
       "4                 0           1           0  \n",
       "..              ...         ...         ...  \n",
       "799               0           1           0  \n",
       "800               0           1           0  \n",
       "801               0           1           0  \n",
       "802               0           1           0  \n",
       "803               0           1           0  \n",
       "\n",
       "[804 rows x 52 columns]"
      ]
     },
     "execution_count": 23,
     "metadata": {},
     "output_type": "execute_result"
    }
   ],
   "source": [
    "dummy = pd.get_dummies(df, columns = ['Make', 'Model', 'Type'])\n",
    "dummy"
   ]
  },
  {
   "cell_type": "code",
   "execution_count": 24,
   "metadata": {},
   "outputs": [
    {
     "data": {
      "text/plain": [
       "Chevrolet    320\n",
       "Pontiac      150\n",
       "SAAB         114\n",
       "Buick         80\n",
       "Cadillac      80\n",
       "Saturn        60\n",
       "Name: Make, dtype: int64"
      ]
     },
     "execution_count": 24,
     "metadata": {},
     "output_type": "execute_result"
    }
   ],
   "source": [
    "df.Make.value_counts()"
   ]
  },
  {
   "cell_type": "code",
   "execution_count": 25,
   "metadata": {},
   "outputs": [
    {
     "data": {
      "text/plain": [
       "Malibu         60\n",
       "AVEO           60\n",
       "Cavalier       60\n",
       "Ion            50\n",
       "Cobalt         50\n",
       "9_3 HO         40\n",
       "Vibe           30\n",
       "Bonneville     30\n",
       "Monte Carlo    30\n",
       "Lacrosse       30\n",
       "Impala         30\n",
       "Grand Prix     30\n",
       "9_5            30\n",
       "Deville        30\n",
       "Lesabre        20\n",
       "Corvette       20\n",
       "9_3            20\n",
       "9_5 HO         20\n",
       "G6             20\n",
       "Grand Am       20\n",
       "Park Avenue    20\n",
       "Sunfire        10\n",
       "Century        10\n",
       "GTO            10\n",
       "Classic        10\n",
       "XLR-V8         10\n",
       "STS-V8         10\n",
       "STS-V6         10\n",
       "CTS            10\n",
       "CST-V          10\n",
       "L Series       10\n",
       "9-2X AWD        4\n",
       "Name: Model, dtype: int64"
      ]
     },
     "execution_count": 25,
     "metadata": {},
     "output_type": "execute_result"
    }
   ],
   "source": [
    "df.Model.value_counts()"
   ]
  },
  {
   "cell_type": "code",
   "execution_count": 26,
   "metadata": {},
   "outputs": [
    {
     "data": {
      "text/plain": [
       "Sedan          490\n",
       "Coupe          140\n",
       "Wagon           64\n",
       "Hatchback       60\n",
       "Convertible     50\n",
       "Name: Type, dtype: int64"
      ]
     },
     "execution_count": 26,
     "metadata": {},
     "output_type": "execute_result"
    }
   ],
   "source": [
    "df.Type.value_counts()"
   ]
  },
  {
   "cell_type": "code",
   "execution_count": 27,
   "metadata": {},
   "outputs": [],
   "source": [
    "from sklearn.model_selection import train_test_split\n",
    "X_train, X_test, y_train, y_test = train_test_split(X, y, test_size=0.250, random_state = 3)"
   ]
  },
  {
   "cell_type": "code",
   "execution_count": 28,
   "metadata": {},
   "outputs": [
    {
     "data": {
      "text/html": [
       "<style>#sk-container-id-1 {color: black;background-color: white;}#sk-container-id-1 pre{padding: 0;}#sk-container-id-1 div.sk-toggleable {background-color: white;}#sk-container-id-1 label.sk-toggleable__label {cursor: pointer;display: block;width: 100%;margin-bottom: 0;padding: 0.3em;box-sizing: border-box;text-align: center;}#sk-container-id-1 label.sk-toggleable__label-arrow:before {content: \"▸\";float: left;margin-right: 0.25em;color: #696969;}#sk-container-id-1 label.sk-toggleable__label-arrow:hover:before {color: black;}#sk-container-id-1 div.sk-estimator:hover label.sk-toggleable__label-arrow:before {color: black;}#sk-container-id-1 div.sk-toggleable__content {max-height: 0;max-width: 0;overflow: hidden;text-align: left;background-color: #f0f8ff;}#sk-container-id-1 div.sk-toggleable__content pre {margin: 0.2em;color: black;border-radius: 0.25em;background-color: #f0f8ff;}#sk-container-id-1 input.sk-toggleable__control:checked~div.sk-toggleable__content {max-height: 200px;max-width: 100%;overflow: auto;}#sk-container-id-1 input.sk-toggleable__control:checked~label.sk-toggleable__label-arrow:before {content: \"▾\";}#sk-container-id-1 div.sk-estimator input.sk-toggleable__control:checked~label.sk-toggleable__label {background-color: #d4ebff;}#sk-container-id-1 div.sk-label input.sk-toggleable__control:checked~label.sk-toggleable__label {background-color: #d4ebff;}#sk-container-id-1 input.sk-hidden--visually {border: 0;clip: rect(1px 1px 1px 1px);clip: rect(1px, 1px, 1px, 1px);height: 1px;margin: -1px;overflow: hidden;padding: 0;position: absolute;width: 1px;}#sk-container-id-1 div.sk-estimator {font-family: monospace;background-color: #f0f8ff;border: 1px dotted black;border-radius: 0.25em;box-sizing: border-box;margin-bottom: 0.5em;}#sk-container-id-1 div.sk-estimator:hover {background-color: #d4ebff;}#sk-container-id-1 div.sk-parallel-item::after {content: \"\";width: 100%;border-bottom: 1px solid gray;flex-grow: 1;}#sk-container-id-1 div.sk-label:hover label.sk-toggleable__label {background-color: #d4ebff;}#sk-container-id-1 div.sk-serial::before {content: \"\";position: absolute;border-left: 1px solid gray;box-sizing: border-box;top: 0;bottom: 0;left: 50%;z-index: 0;}#sk-container-id-1 div.sk-serial {display: flex;flex-direction: column;align-items: center;background-color: white;padding-right: 0.2em;padding-left: 0.2em;position: relative;}#sk-container-id-1 div.sk-item {position: relative;z-index: 1;}#sk-container-id-1 div.sk-parallel {display: flex;align-items: stretch;justify-content: center;background-color: white;position: relative;}#sk-container-id-1 div.sk-item::before, #sk-container-id-1 div.sk-parallel-item::before {content: \"\";position: absolute;border-left: 1px solid gray;box-sizing: border-box;top: 0;bottom: 0;left: 50%;z-index: -1;}#sk-container-id-1 div.sk-parallel-item {display: flex;flex-direction: column;z-index: 1;position: relative;background-color: white;}#sk-container-id-1 div.sk-parallel-item:first-child::after {align-self: flex-end;width: 50%;}#sk-container-id-1 div.sk-parallel-item:last-child::after {align-self: flex-start;width: 50%;}#sk-container-id-1 div.sk-parallel-item:only-child::after {width: 0;}#sk-container-id-1 div.sk-dashed-wrapped {border: 1px dashed gray;margin: 0 0.4em 0.5em 0.4em;box-sizing: border-box;padding-bottom: 0.4em;background-color: white;}#sk-container-id-1 div.sk-label label {font-family: monospace;font-weight: bold;display: inline-block;line-height: 1.2em;}#sk-container-id-1 div.sk-label-container {text-align: center;}#sk-container-id-1 div.sk-container {/* jupyter's `normalize.less` sets `[hidden] { display: none; }` but bootstrap.min.css set `[hidden] { display: none !important; }` so we also need the `!important` here to be able to override the default hidden behavior on the sphinx rendered scikit-learn.org. See: https://github.com/scikit-learn/scikit-learn/issues/21755 */display: inline-block !important;position: relative;}#sk-container-id-1 div.sk-text-repr-fallback {display: none;}</style><div id=\"sk-container-id-1\" class=\"sk-top-container\"><div class=\"sk-text-repr-fallback\"><pre>LinearRegression()</pre><b>In a Jupyter environment, please rerun this cell to show the HTML representation or trust the notebook. <br />On GitHub, the HTML representation is unable to render, please try loading this page with nbviewer.org.</b></div><div class=\"sk-container\" hidden><div class=\"sk-item\"><div class=\"sk-estimator sk-toggleable\"><input class=\"sk-toggleable__control sk-hidden--visually\" id=\"sk-estimator-id-1\" type=\"checkbox\" checked><label for=\"sk-estimator-id-1\" class=\"sk-toggleable__label sk-toggleable__label-arrow\">LinearRegression</label><div class=\"sk-toggleable__content\"><pre>LinearRegression()</pre></div></div></div></div></div>"
      ],
      "text/plain": [
       "LinearRegression()"
      ]
     },
     "execution_count": 28,
     "metadata": {},
     "output_type": "execute_result"
    }
   ],
   "source": [
    "from sklearn.linear_model import LinearRegression \n",
    "regressor = LinearRegression() \n",
    "regressor.fit(X_train, y_train)"
   ]
  },
  {
   "cell_type": "code",
   "execution_count": 29,
   "metadata": {},
   "outputs": [
    {
     "name": "stdout",
     "output_type": "stream",
     "text": [
      "Intercept: -2581.7893910526363\n",
      "Coefficient: [3213.71553562   42.86096941 6230.81709458 2921.56636173]\n",
      "Score: 0.45289323267581394\n"
     ]
    }
   ],
   "source": [
    "print('Intercept:', regressor.intercept_)\n",
    "print('Coefficient:',regressor.coef_)\n",
    "print('Score:', regressor.score(X_test, y_test))"
   ]
  },
  {
   "attachments": {},
   "cell_type": "markdown",
   "metadata": {},
   "source": [
    "2. Find the best combination of factors to predict price"
   ]
  },
  {
   "cell_type": "code",
   "execution_count": 30,
   "metadata": {},
   "outputs": [
    {
     "name": "stderr",
     "output_type": "stream",
     "text": [
      "C:\\Users\\Priyanka C\\AppData\\Local\\Temp\\ipykernel_5252\\1134722465.py:1: FutureWarning: The default value of numeric_only in DataFrame.corr is deprecated. In a future version, it will default to False. Select only valid columns or specify the value of numeric_only to silence this warning.\n",
      "  df.corr()\n"
     ]
    },
    {
     "data": {
      "text/html": [
       "<div>\n",
       "<style scoped>\n",
       "    .dataframe tbody tr th:only-of-type {\n",
       "        vertical-align: middle;\n",
       "    }\n",
       "\n",
       "    .dataframe tbody tr th {\n",
       "        vertical-align: top;\n",
       "    }\n",
       "\n",
       "    .dataframe thead th {\n",
       "        text-align: right;\n",
       "    }\n",
       "</style>\n",
       "<table border=\"1\" class=\"dataframe\">\n",
       "  <thead>\n",
       "    <tr style=\"text-align: right;\">\n",
       "      <th></th>\n",
       "      <th>Price</th>\n",
       "      <th>Mileage</th>\n",
       "      <th>Cylinder</th>\n",
       "      <th>Liter</th>\n",
       "      <th>Doors</th>\n",
       "      <th>Cruise</th>\n",
       "      <th>Sound</th>\n",
       "      <th>Leather</th>\n",
       "    </tr>\n",
       "  </thead>\n",
       "  <tbody>\n",
       "    <tr>\n",
       "      <th>Price</th>\n",
       "      <td>1.000000</td>\n",
       "      <td>-0.143051</td>\n",
       "      <td>0.569086</td>\n",
       "      <td>0.558146</td>\n",
       "      <td>-0.138750</td>\n",
       "      <td>0.430851</td>\n",
       "      <td>-0.124348</td>\n",
       "      <td>0.157197</td>\n",
       "    </tr>\n",
       "    <tr>\n",
       "      <th>Mileage</th>\n",
       "      <td>-0.143051</td>\n",
       "      <td>1.000000</td>\n",
       "      <td>-0.029461</td>\n",
       "      <td>-0.018641</td>\n",
       "      <td>-0.016944</td>\n",
       "      <td>0.025037</td>\n",
       "      <td>-0.026146</td>\n",
       "      <td>0.001005</td>\n",
       "    </tr>\n",
       "    <tr>\n",
       "      <th>Cylinder</th>\n",
       "      <td>0.569086</td>\n",
       "      <td>-0.029461</td>\n",
       "      <td>1.000000</td>\n",
       "      <td>0.957897</td>\n",
       "      <td>0.002206</td>\n",
       "      <td>0.354285</td>\n",
       "      <td>-0.089704</td>\n",
       "      <td>0.075520</td>\n",
       "    </tr>\n",
       "    <tr>\n",
       "      <th>Liter</th>\n",
       "      <td>0.558146</td>\n",
       "      <td>-0.018641</td>\n",
       "      <td>0.957897</td>\n",
       "      <td>1.000000</td>\n",
       "      <td>-0.079259</td>\n",
       "      <td>0.377509</td>\n",
       "      <td>-0.065527</td>\n",
       "      <td>0.087332</td>\n",
       "    </tr>\n",
       "    <tr>\n",
       "      <th>Doors</th>\n",
       "      <td>-0.138750</td>\n",
       "      <td>-0.016944</td>\n",
       "      <td>0.002206</td>\n",
       "      <td>-0.079259</td>\n",
       "      <td>1.000000</td>\n",
       "      <td>-0.047674</td>\n",
       "      <td>-0.062530</td>\n",
       "      <td>-0.061969</td>\n",
       "    </tr>\n",
       "    <tr>\n",
       "      <th>Cruise</th>\n",
       "      <td>0.430851</td>\n",
       "      <td>0.025037</td>\n",
       "      <td>0.354285</td>\n",
       "      <td>0.377509</td>\n",
       "      <td>-0.047674</td>\n",
       "      <td>1.000000</td>\n",
       "      <td>-0.091730</td>\n",
       "      <td>-0.070573</td>\n",
       "    </tr>\n",
       "    <tr>\n",
       "      <th>Sound</th>\n",
       "      <td>-0.124348</td>\n",
       "      <td>-0.026146</td>\n",
       "      <td>-0.089704</td>\n",
       "      <td>-0.065527</td>\n",
       "      <td>-0.062530</td>\n",
       "      <td>-0.091730</td>\n",
       "      <td>1.000000</td>\n",
       "      <td>0.165444</td>\n",
       "    </tr>\n",
       "    <tr>\n",
       "      <th>Leather</th>\n",
       "      <td>0.157197</td>\n",
       "      <td>0.001005</td>\n",
       "      <td>0.075520</td>\n",
       "      <td>0.087332</td>\n",
       "      <td>-0.061969</td>\n",
       "      <td>-0.070573</td>\n",
       "      <td>0.165444</td>\n",
       "      <td>1.000000</td>\n",
       "    </tr>\n",
       "  </tbody>\n",
       "</table>\n",
       "</div>"
      ],
      "text/plain": [
       "             Price   Mileage  Cylinder     Liter     Doors    Cruise  \\\n",
       "Price     1.000000 -0.143051  0.569086  0.558146 -0.138750  0.430851   \n",
       "Mileage  -0.143051  1.000000 -0.029461 -0.018641 -0.016944  0.025037   \n",
       "Cylinder  0.569086 -0.029461  1.000000  0.957897  0.002206  0.354285   \n",
       "Liter     0.558146 -0.018641  0.957897  1.000000 -0.079259  0.377509   \n",
       "Doors    -0.138750 -0.016944  0.002206 -0.079259  1.000000 -0.047674   \n",
       "Cruise    0.430851  0.025037  0.354285  0.377509 -0.047674  1.000000   \n",
       "Sound    -0.124348 -0.026146 -0.089704 -0.065527 -0.062530 -0.091730   \n",
       "Leather   0.157197  0.001005  0.075520  0.087332 -0.061969 -0.070573   \n",
       "\n",
       "             Sound   Leather  \n",
       "Price    -0.124348  0.157197  \n",
       "Mileage  -0.026146  0.001005  \n",
       "Cylinder -0.089704  0.075520  \n",
       "Liter    -0.065527  0.087332  \n",
       "Doors    -0.062530 -0.061969  \n",
       "Cruise   -0.091730 -0.070573  \n",
       "Sound     1.000000  0.165444  \n",
       "Leather   0.165444  1.000000  "
      ]
     },
     "execution_count": 30,
     "metadata": {},
     "output_type": "execute_result"
    }
   ],
   "source": [
    "df.corr()"
   ]
  },
  {
   "cell_type": "code",
   "execution_count": 31,
   "metadata": {},
   "outputs": [
    {
     "name": "stdout",
     "output_type": "stream",
     "text": [
      "R2- SCORE: 0.3880163306166048\n"
     ]
    },
    {
     "data": {
      "text/plain": [
       "0.3880163306166048"
      ]
     },
     "execution_count": 31,
     "metadata": {},
     "output_type": "execute_result"
    }
   ],
   "source": [
    "X = df[['Cylinder','Liter','Cruise','Leather','Mileage','Doors','Sound']].values\n",
    "y = df['Price'].values  \n",
    "\n",
    "from sklearn.model_selection import train_test_split\n",
    "X_train, X_test, y_train, y_test = train_test_split(X, y, test_size=0.3,random_state = 2)\n",
    "\n",
    "scaler = StandardScaler()\n",
    "scaler.fit(X_train,y_train) \n",
    "X_train_scaled = scaler.transform(X_train) \n",
    "X_test_scaled = scaler.transform(X_test)\n",
    "\n",
    "regressor = LinearRegression()\n",
    "regressor.fit(X_train_scaled,y_train)\n",
    "y_pred = regressor.predict(X_test_scaled)\n",
    "from sklearn import metrics \n",
    "print('R2- SCORE:', metrics.r2_score(y_test,y_pred))\n",
    "regressor.score(X_test_scaled,y_test)"
   ]
  },
  {
   "cell_type": "code",
   "execution_count": 32,
   "metadata": {},
   "outputs": [
    {
     "name": "stdout",
     "output_type": "stream",
     "text": [
      "R2- SCORE: 0.3762856432862902\n"
     ]
    },
    {
     "data": {
      "text/plain": [
       "0.3762856432862902"
      ]
     },
     "execution_count": 32,
     "metadata": {},
     "output_type": "execute_result"
    }
   ],
   "source": [
    "X = df[['Cylinder','Liter','Cruise','Leather','Mileage','Doors']].values\n",
    "y = df['Price'].values  \n",
    "\n",
    "from sklearn.model_selection import train_test_split\n",
    "X_train, X_test, y_train, y_test = train_test_split(X, y, test_size=0.3,random_state = 2)\n",
    "\n",
    "scaler = StandardScaler()\n",
    "scaler.fit(X_train,y_train) \n",
    "X_train_scaled = scaler.transform(X_train) \n",
    "X_test_scaled = scaler.transform(X_test)\n",
    "\n",
    "regressor = LinearRegression()\n",
    "regressor.fit(X_train_scaled,y_train)\n",
    "y_pred = regressor.predict(X_test_scaled)\n",
    "from sklearn import metrics \n",
    "print('R2- SCORE:', metrics.r2_score(y_test,y_pred))\n",
    "regressor.score(X_test_scaled,y_test)"
   ]
  },
  {
   "cell_type": "code",
   "execution_count": 33,
   "metadata": {},
   "outputs": [
    {
     "name": "stdout",
     "output_type": "stream",
     "text": [
      "R2- SCORE: 0.364911226504551\n"
     ]
    },
    {
     "data": {
      "text/plain": [
       "0.364911226504551"
      ]
     },
     "execution_count": 33,
     "metadata": {},
     "output_type": "execute_result"
    }
   ],
   "source": [
    "X = df[['Cylinder','Liter','Cruise','Leather','Mileage','Sound']].values\n",
    "y = df['Price'].values  \n",
    "\n",
    "from sklearn.model_selection import train_test_split\n",
    "X_train, X_test, y_train, y_test = train_test_split(X, y, test_size=0.3,random_state = 2)\n",
    "\n",
    "scaler = StandardScaler()\n",
    "scaler.fit(X_train,y_train) \n",
    "X_train_scaled = scaler.transform(X_train) \n",
    "X_test_scaled = scaler.transform(X_test)\n",
    "\n",
    "regressor = LinearRegression()\n",
    "regressor.fit(X_train_scaled,y_train)\n",
    "y_pred = regressor.predict(X_test_scaled)\n",
    "from sklearn import metrics \n",
    "print('R2- SCORE:', metrics.r2_score(y_test,y_pred))\n",
    "regressor.score(X_test_scaled,y_test)"
   ]
  },
  {
   "cell_type": "code",
   "execution_count": 34,
   "metadata": {},
   "outputs": [
    {
     "name": "stdout",
     "output_type": "stream",
     "text": [
      "R2- SCORE: 0.37418132996244524\n"
     ]
    },
    {
     "data": {
      "text/plain": [
       "0.37418132996244524"
      ]
     },
     "execution_count": 34,
     "metadata": {},
     "output_type": "execute_result"
    }
   ],
   "source": [
    "X = df[['Cylinder','Liter','Cruise','Leather','Doors','Sound']].values\n",
    "y = df['Price'].values  \n",
    "\n",
    "from sklearn.model_selection import train_test_split\n",
    "X_train, X_test, y_train, y_test = train_test_split(X, y, test_size=0.3,random_state = 2)\n",
    "\n",
    "scaler = StandardScaler()\n",
    "scaler.fit(X_train,y_train) \n",
    "X_train_scaled = scaler.transform(X_train) \n",
    "X_test_scaled = scaler.transform(X_test)\n",
    "\n",
    "regressor = LinearRegression()\n",
    "regressor.fit(X_train_scaled,y_train)\n",
    "y_pred = regressor.predict(X_test_scaled)\n",
    "from sklearn import metrics \n",
    "print('R2- SCORE:', metrics.r2_score(y_test,y_pred))\n",
    "regressor.score(X_test_scaled,y_test)"
   ]
  },
  {
   "cell_type": "code",
   "execution_count": 35,
   "metadata": {},
   "outputs": [
    {
     "name": "stdout",
     "output_type": "stream",
     "text": [
      "R2- SCORE: 0.3752633573628026\n"
     ]
    },
    {
     "data": {
      "text/plain": [
       "0.3752633573628026"
      ]
     },
     "execution_count": 35,
     "metadata": {},
     "output_type": "execute_result"
    }
   ],
   "source": [
    "X = df[['Cylinder','Liter','Cruise','Mileage','Doors','Sound']].values\n",
    "y = df['Price'].values  \n",
    "\n",
    "from sklearn.model_selection import train_test_split\n",
    "X_train, X_test, y_train, y_test = train_test_split(X, y, test_size=0.3,random_state = 2)\n",
    "\n",
    "scaler = StandardScaler()\n",
    "scaler.fit(X_train,y_train) \n",
    "X_train_scaled = scaler.transform(X_train) \n",
    "X_test_scaled = scaler.transform(X_test)\n",
    "\n",
    "regressor = LinearRegression()\n",
    "regressor.fit(X_train_scaled,y_train)\n",
    "y_pred = regressor.predict(X_test_scaled)\n",
    "from sklearn import metrics \n",
    "print('R2- SCORE:', metrics.r2_score(y_test,y_pred))\n",
    "regressor.score(X_test_scaled,y_test)"
   ]
  },
  {
   "cell_type": "code",
   "execution_count": 36,
   "metadata": {},
   "outputs": [
    {
     "name": "stdout",
     "output_type": "stream",
     "text": [
      "R2- SCORE: 0.3158022031879518\n"
     ]
    },
    {
     "data": {
      "text/plain": [
       "0.3158022031879518"
      ]
     },
     "execution_count": 36,
     "metadata": {},
     "output_type": "execute_result"
    }
   ],
   "source": [
    "X = df[['Cylinder','Liter','Leather','Mileage','Doors','Sound']].values\n",
    "y = df['Price'].values  \n",
    "\n",
    "from sklearn.model_selection import train_test_split\n",
    "X_train, X_test, y_train, y_test = train_test_split(X, y, test_size=0.3,random_state = 2)\n",
    "\n",
    "scaler = StandardScaler()\n",
    "scaler.fit(X_train,y_train) \n",
    "X_train_scaled = scaler.transform(X_train) \n",
    "X_test_scaled = scaler.transform(X_test)\n",
    "\n",
    "regressor = LinearRegression()\n",
    "regressor.fit(X_train_scaled,y_train)\n",
    "y_pred = regressor.predict(X_test_scaled)\n",
    "from sklearn import metrics \n",
    "print('R2- SCORE:', metrics.r2_score(y_test,y_pred))\n",
    "regressor.score(X_test_scaled,y_test)"
   ]
  },
  {
   "cell_type": "code",
   "execution_count": 37,
   "metadata": {},
   "outputs": [
    {
     "name": "stdout",
     "output_type": "stream",
     "text": [
      "R2- SCORE: 0.3875791733231523\n"
     ]
    },
    {
     "data": {
      "text/plain": [
       "0.3875791733231523"
      ]
     },
     "execution_count": 37,
     "metadata": {},
     "output_type": "execute_result"
    }
   ],
   "source": [
    "X = df[['Cylinder','Cruise','Leather','Mileage','Doors','Sound']].values\n",
    "y = df['Price'].values  \n",
    "\n",
    "from sklearn.model_selection import train_test_split\n",
    "X_train, X_test, y_train, y_test = train_test_split(X, y, test_size=0.3,random_state = 2)\n",
    "\n",
    "scaler = StandardScaler()\n",
    "scaler.fit(X_train,y_train) \n",
    "X_train_scaled = scaler.transform(X_train) \n",
    "X_test_scaled = scaler.transform(X_test)\n",
    "\n",
    "regressor = LinearRegression()\n",
    "regressor.fit(X_train_scaled,y_train)\n",
    "y_pred = regressor.predict(X_test_scaled)\n",
    "from sklearn import metrics \n",
    "print('R2- SCORE:', metrics.r2_score(y_test,y_pred))\n",
    "regressor.score(X_test_scaled,y_test)"
   ]
  },
  {
   "cell_type": "code",
   "execution_count": 38,
   "metadata": {},
   "outputs": [
    {
     "name": "stdout",
     "output_type": "stream",
     "text": [
      "R2- SCORE: 0.370247196183332\n"
     ]
    },
    {
     "data": {
      "text/plain": [
       "0.370247196183332"
      ]
     },
     "execution_count": 38,
     "metadata": {},
     "output_type": "execute_result"
    }
   ],
   "source": [
    "X = df[['Liter','Cruise','Leather','Mileage','Doors','Sound']].values\n",
    "y = df['Price'].values  \n",
    "\n",
    "from sklearn.model_selection import train_test_split\n",
    "X_train, X_test, y_train, y_test = train_test_split(X, y, test_size=0.3,random_state = 2)\n",
    "\n",
    "scaler = StandardScaler()\n",
    "scaler.fit(X_train,y_train) \n",
    "X_train_scaled = scaler.transform(X_train) \n",
    "X_test_scaled = scaler.transform(X_test)\n",
    "\n",
    "regressor = LinearRegression()\n",
    "regressor.fit(X_train_scaled,y_train)\n",
    "y_pred = regressor.predict(X_test_scaled)\n",
    "from sklearn import metrics \n",
    "print('R2- SCORE:', metrics.r2_score(y_test,y_pred))\n",
    "regressor.score(X_test_scaled,y_test)"
   ]
  },
  {
   "cell_type": "code",
   "execution_count": 39,
   "metadata": {},
   "outputs": [
    {
     "name": "stdout",
     "output_type": "stream",
     "text": [
      "R2- SCORE: 0.3875791733231523\n"
     ]
    },
    {
     "data": {
      "text/plain": [
       "0.3875791733231523"
      ]
     },
     "execution_count": 39,
     "metadata": {},
     "output_type": "execute_result"
    }
   ],
   "source": [
    "X = df[['Cylinder','Cruise','Leather','Mileage','Doors','Sound']].values\n",
    "y = df['Price'].values  \n",
    "\n",
    "from sklearn.model_selection import train_test_split\n",
    "X_train, X_test, y_train, y_test = train_test_split(X, y, test_size=0.3,random_state = 2)\n",
    "\n",
    "scaler = StandardScaler()\n",
    "scaler.fit(X_train,y_train) \n",
    "X_train_scaled = scaler.transform(X_train) \n",
    "X_test_scaled = scaler.transform(X_test)\n",
    "\n",
    "regressor = LinearRegression()\n",
    "regressor.fit(X_train_scaled,y_train)\n",
    "y_pred = regressor.predict(X_test_scaled)\n",
    "from sklearn import metrics \n",
    "print('R2- SCORE:', metrics.r2_score(y_test,y_pred))\n",
    "regressor.score(X_test_scaled,y_test)"
   ]
  },
  {
   "cell_type": "code",
   "execution_count": 40,
   "metadata": {},
   "outputs": [
    {
     "name": "stdout",
     "output_type": "stream",
     "text": [
      "R2- SCORE: 0.4076108557222541\n"
     ]
    },
    {
     "data": {
      "text/plain": [
       "0.4076108557222541"
      ]
     },
     "execution_count": 40,
     "metadata": {},
     "output_type": "execute_result"
    }
   ],
   "source": [
    "X = df[['Cylinder','Cruise','Leather','Mileage','Doors']].values\n",
    "y = df['Price'].values  \n",
    "\n",
    "from sklearn.model_selection import train_test_split\n",
    "X_train, X_test, y_train, y_test = train_test_split(X, y, test_size=0.250,random_state = 2)\n",
    "\n",
    "scaler = StandardScaler()\n",
    "scaler.fit(X_train,y_train) \n",
    "X_train_scaled = scaler.transform(X_train) \n",
    "X_test_scaled = scaler.transform(X_test)\n",
    "\n",
    "regressor = LinearRegression()\n",
    "regressor.fit(X_train_scaled,y_train)\n",
    "y_pred = regressor.predict(X_test_scaled)\n",
    "from sklearn import metrics \n",
    "print('R2- SCORE:', metrics.r2_score(y_test,y_pred))\n",
    "regressor.score(X_test_scaled,y_test)"
   ]
  },
  {
   "cell_type": "code",
   "execution_count": 41,
   "metadata": {},
   "outputs": [
    {
     "name": "stdout",
     "output_type": "stream",
     "text": [
      "R2- SCORE: 0.4078671146056003\n"
     ]
    },
    {
     "data": {
      "text/plain": [
       "0.4078671146056003"
      ]
     },
     "execution_count": 41,
     "metadata": {},
     "output_type": "execute_result"
    }
   ],
   "source": [
    "X = df[['Cylinder','Cruise','Leather','Mileage','Sound']].values\n",
    "y = df['Price'].values  \n",
    "\n",
    "from sklearn.model_selection import train_test_split\n",
    "X_train, X_test, y_train, y_test = train_test_split(X, y, test_size=0.250,random_state = 2)\n",
    "\n",
    "scaler = StandardScaler()\n",
    "scaler.fit(X_train,y_train) \n",
    "X_train_scaled = scaler.transform(X_train) \n",
    "X_test_scaled = scaler.transform(X_test)\n",
    "\n",
    "regressor = LinearRegression()\n",
    "regressor.fit(X_train_scaled,y_train)\n",
    "y_pred = regressor.predict(X_test_scaled)\n",
    "from sklearn import metrics \n",
    "print('R2- SCORE:', metrics.r2_score(y_test,y_pred))\n",
    "regressor.score(X_test_scaled,y_test)"
   ]
  },
  {
   "cell_type": "code",
   "execution_count": 42,
   "metadata": {},
   "outputs": [
    {
     "name": "stdout",
     "output_type": "stream",
     "text": [
      "R2- SCORE: 0.41155835904638827\n"
     ]
    },
    {
     "data": {
      "text/plain": [
       "0.41155835904638827"
      ]
     },
     "execution_count": 42,
     "metadata": {},
     "output_type": "execute_result"
    }
   ],
   "source": [
    "X = df[['Cylinder','Cruise','Leather','Doors','Sound']].values\n",
    "y = df['Price'].values  \n",
    "\n",
    "from sklearn.model_selection import train_test_split\n",
    "X_train, X_test, y_train, y_test = train_test_split(X, y, test_size=0.250,random_state = 2)\n",
    "\n",
    "scaler = StandardScaler()\n",
    "scaler.fit(X_train,y_train) \n",
    "X_train_scaled = scaler.transform(X_train) \n",
    "X_test_scaled = scaler.transform(X_test)\n",
    "\n",
    "regressor = LinearRegression()\n",
    "regressor.fit(X_train_scaled,y_train)\n",
    "y_pred = regressor.predict(X_test_scaled)\n",
    "from sklearn import metrics \n",
    "print('R2- SCORE:', metrics.r2_score(y_test,y_pred))\n",
    "regressor.score(X_test_scaled,y_test)"
   ]
  },
  {
   "cell_type": "code",
   "execution_count": 43,
   "metadata": {},
   "outputs": [
    {
     "name": "stdout",
     "output_type": "stream",
     "text": [
      "R2- SCORE: 0.39628334260793985\n"
     ]
    },
    {
     "data": {
      "text/plain": [
       "0.39628334260793985"
      ]
     },
     "execution_count": 43,
     "metadata": {},
     "output_type": "execute_result"
    }
   ],
   "source": [
    "X = df[['Cylinder','Cruise','Mileage','Doors','Sound']].values\n",
    "y = df['Price'].values  \n",
    "\n",
    "from sklearn.model_selection import train_test_split\n",
    "X_train, X_test, y_train, y_test = train_test_split(X, y, test_size=0.250,random_state = 2)\n",
    "\n",
    "scaler = StandardScaler()\n",
    "scaler.fit(X_train,y_train) \n",
    "X_train_scaled = scaler.transform(X_train) \n",
    "X_test_scaled = scaler.transform(X_test)\n",
    "\n",
    "regressor = LinearRegression()\n",
    "regressor.fit(X_train_scaled,y_train)\n",
    "y_pred = regressor.predict(X_test_scaled)\n",
    "from sklearn import metrics \n",
    "print('R2- SCORE:', metrics.r2_score(y_test,y_pred))\n",
    "regressor.score(X_test_scaled,y_test)"
   ]
  },
  {
   "cell_type": "code",
   "execution_count": 44,
   "metadata": {},
   "outputs": [
    {
     "name": "stdout",
     "output_type": "stream",
     "text": [
      "R2- SCORE: 0.3155457929689419\n"
     ]
    },
    {
     "data": {
      "text/plain": [
       "0.3155457929689419"
      ]
     },
     "execution_count": 44,
     "metadata": {},
     "output_type": "execute_result"
    }
   ],
   "source": [
    "X = df[['Cylinder','Leather','Mileage','Doors','Sound']].values\n",
    "y = df['Price'].values  \n",
    "\n",
    "from sklearn.model_selection import train_test_split\n",
    "X_train, X_test, y_train, y_test = train_test_split(X, y, test_size=0.3,random_state = 2)\n",
    "\n",
    "scaler = StandardScaler()\n",
    "scaler.fit(X_train,y_train) \n",
    "X_train_scaled = scaler.transform(X_train) \n",
    "X_test_scaled = scaler.transform(X_test)\n",
    "\n",
    "regressor = LinearRegression()\n",
    "regressor.fit(X_train_scaled,y_train)\n",
    "y_pred = regressor.predict(X_test_scaled)\n",
    "from sklearn import metrics \n",
    "print('R2- SCORE:', metrics.r2_score(y_test,y_pred))\n",
    "regressor.score(X_test_scaled,y_test)"
   ]
  },
  {
   "cell_type": "code",
   "execution_count": 45,
   "metadata": {},
   "outputs": [
    {
     "name": "stdout",
     "output_type": "stream",
     "text": [
      "R2- SCORE: 0.24716371245351643\n"
     ]
    },
    {
     "data": {
      "text/plain": [
       "0.24716371245351643"
      ]
     },
     "execution_count": 45,
     "metadata": {},
     "output_type": "execute_result"
    }
   ],
   "source": [
    "X = df[['Cruise','Leather','Mileage','Doors','Sound']].values\n",
    "y = df['Price'].values  \n",
    "\n",
    "from sklearn.model_selection import train_test_split\n",
    "X_train, X_test, y_train, y_test = train_test_split(X, y, test_size=0.3,random_state = 2)\n",
    "\n",
    "scaler = StandardScaler()\n",
    "scaler.fit(X_train,y_train) \n",
    "X_train_scaled = scaler.transform(X_train) \n",
    "X_test_scaled = scaler.transform(X_test)\n",
    "\n",
    "regressor = LinearRegression()\n",
    "regressor.fit(X_train_scaled,y_train)\n",
    "y_pred = regressor.predict(X_test_scaled)\n",
    "from sklearn import metrics \n",
    "print('R2- SCORE:', metrics.r2_score(y_test,y_pred))\n",
    "regressor.score(X_test_scaled,y_test)"
   ]
  },
  {
   "cell_type": "code",
   "execution_count": 46,
   "metadata": {},
   "outputs": [
    {
     "name": "stdout",
     "output_type": "stream",
     "text": [
      "R2- SCORE: 0.41155835904638827\n"
     ]
    },
    {
     "data": {
      "text/plain": [
       "0.41155835904638827"
      ]
     },
     "execution_count": 46,
     "metadata": {},
     "output_type": "execute_result"
    }
   ],
   "source": [
    "X = df[['Cylinder','Cruise','Leather','Doors','Sound']].values\n",
    "y = df['Price'].values  \n",
    "\n",
    "from sklearn.model_selection import train_test_split\n",
    "X_train, X_test, y_train, y_test = train_test_split(X, y, test_size=0.250,random_state = 2)\n",
    "\n",
    "scaler = StandardScaler()\n",
    "scaler.fit(X_train,y_train) \n",
    "X_train_scaled = scaler.transform(X_train) \n",
    "X_test_scaled = scaler.transform(X_test)\n",
    "\n",
    "regressor = LinearRegression()\n",
    "regressor.fit(X_train_scaled,y_train)\n",
    "y_pred = regressor.predict(X_test_scaled)\n",
    "from sklearn import metrics \n",
    "print('R2- SCORE:', metrics.r2_score(y_test,y_pred))\n",
    "regressor.score(X_test_scaled,y_test)"
   ]
  },
  {
   "cell_type": "code",
   "execution_count": 47,
   "metadata": {},
   "outputs": [
    {
     "name": "stdout",
     "output_type": "stream",
     "text": [
      "R2- SCORE: 0.39528512677397587\n"
     ]
    },
    {
     "data": {
      "text/plain": [
       "0.39528512677397587"
      ]
     },
     "execution_count": 47,
     "metadata": {},
     "output_type": "execute_result"
    }
   ],
   "source": [
    "X = df[['Cylinder','Cruise','Leather','Doors']].values\n",
    "y = df['Price'].values  \n",
    "\n",
    "from sklearn.model_selection import train_test_split\n",
    "X_train, X_test, y_train, y_test = train_test_split(X, y, test_size=0.250,random_state = 2)\n",
    "\n",
    "scaler = StandardScaler()\n",
    "scaler.fit(X_train,y_train) \n",
    "X_train_scaled = scaler.transform(X_train) \n",
    "X_test_scaled = scaler.transform(X_test)\n",
    "\n",
    "regressor = LinearRegression()\n",
    "regressor.fit(X_train_scaled,y_train)\n",
    "y_pred = regressor.predict(X_test_scaled)\n",
    "from sklearn import metrics \n",
    "print('R2- SCORE:', metrics.r2_score(y_test,y_pred))\n",
    "regressor.score(X_test_scaled,y_test)"
   ]
  },
  {
   "cell_type": "code",
   "execution_count": 48,
   "metadata": {},
   "outputs": [
    {
     "name": "stdout",
     "output_type": "stream",
     "text": [
      "R2- SCORE: 0.3996776318440405\n"
     ]
    },
    {
     "data": {
      "text/plain": [
       "0.3996776318440405"
      ]
     },
     "execution_count": 48,
     "metadata": {},
     "output_type": "execute_result"
    }
   ],
   "source": [
    "X = df[['Cylinder','Cruise','Leather','Sound']].values\n",
    "y = df['Price'].values  \n",
    "\n",
    "from sklearn.model_selection import train_test_split\n",
    "X_train, X_test, y_train, y_test = train_test_split(X, y, test_size=0.250,random_state = 2)\n",
    "\n",
    "scaler = StandardScaler()\n",
    "scaler.fit(X_train,y_train) \n",
    "X_train_scaled = scaler.transform(X_train) \n",
    "X_test_scaled = scaler.transform(X_test)\n",
    "\n",
    "regressor = LinearRegression()\n",
    "regressor.fit(X_train_scaled,y_train)\n",
    "y_pred = regressor.predict(X_test_scaled)\n",
    "from sklearn import metrics \n",
    "print('R2- SCORE:', metrics.r2_score(y_test,y_pred))\n",
    "regressor.score(X_test_scaled,y_test)"
   ]
  },
  {
   "cell_type": "code",
   "execution_count": 49,
   "metadata": {},
   "outputs": [
    {
     "name": "stdout",
     "output_type": "stream",
     "text": [
      "R2- SCORE: 0.3783397039980311\n"
     ]
    },
    {
     "data": {
      "text/plain": [
       "0.3783397039980311"
      ]
     },
     "execution_count": 49,
     "metadata": {},
     "output_type": "execute_result"
    }
   ],
   "source": [
    "X = df[['Cylinder','Cruise','Doors','Sound']].values\n",
    "y = df['Price'].values  \n",
    "\n",
    "from sklearn.model_selection import train_test_split\n",
    "X_train, X_test, y_train, y_test = train_test_split(X, y, test_size=0.250,random_state = 2)\n",
    "\n",
    "scaler = StandardScaler()\n",
    "scaler.fit(X_train,y_train) \n",
    "X_train_scaled = scaler.transform(X_train) \n",
    "X_test_scaled = scaler.transform(X_test)\n",
    "\n",
    "regressor = LinearRegression()\n",
    "regressor.fit(X_train_scaled,y_train)\n",
    "y_pred = regressor.predict(X_test_scaled)\n",
    "from sklearn import metrics \n",
    "print('R2- SCORE:', metrics.r2_score(y_test,y_pred))\n",
    "regressor.score(X_test_scaled,y_test)"
   ]
  },
  {
   "attachments": {},
   "cell_type": "markdown",
   "metadata": {},
   "source": [
    "## We find that, the features 'Cylinder','Cruise','Leather','Doors','Sound'  make the best combination.\n"
   ]
  }
 ],
 "metadata": {
  "colab": {
   "provenance": []
  },
  "kernelspec": {
   "display_name": "Python 3",
   "language": "python",
   "name": "python3"
  },
  "language_info": {
   "codemirror_mode": {
    "name": "ipython",
    "version": 3
   },
   "file_extension": ".py",
   "mimetype": "text/x-python",
   "name": "python",
   "nbconvert_exporter": "python",
   "pygments_lexer": "ipython3",
   "version": "3.10.5"
  }
 },
 "nbformat": 4,
 "nbformat_minor": 1
}
